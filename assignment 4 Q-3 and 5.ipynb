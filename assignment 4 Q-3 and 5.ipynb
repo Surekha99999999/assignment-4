{
 "cells": [
  {
   "cell_type": "code",
   "execution_count": 1,
   "id": "8a358bae",
   "metadata": {},
   "outputs": [],
   "source": [
    "import pandas as pd\n",
    "import numpy as np\n",
    "import selenium\n",
    "from selenium import webdriver\n",
    "from selenium.common.exceptions import NoSuchElementException\n",
    "import warnings\n",
    "warnings.filterwarnings('ignore')"
   ]
  },
  {
   "cell_type": "code",
   "execution_count": 2,
   "id": "d9a1b81b",
   "metadata": {},
   "outputs": [],
   "source": [
    "driver = webdriver.Chrome(r'C:\\Users\\PC\\Downloads\\chromedriver_win32 (1)\\chromedriver.exe')"
   ]
  },
  {
   "cell_type": "code",
   "execution_count": 3,
   "id": "ec9e92d2",
   "metadata": {},
   "outputs": [],
   "source": [
    "driver.get(\"https://www.guru99.com/\")"
   ]
  },
  {
   "cell_type": "code",
   "execution_count": 4,
   "id": "8bc9d8fb",
   "metadata": {},
   "outputs": [
    {
     "data": {
      "text/plain": [
       "[<selenium.webdriver.remote.webelement.WebElement (session=\"75d6ab57439b70993c4d9f26a187c3c1\", element=\"38c5cff8-a74c-4cfa-b43d-a660697377b9\")>]"
      ]
     },
     "execution_count": 4,
     "metadata": {},
     "output_type": "execute_result"
    }
   ],
   "source": [
    "name = driver.find_elements_by_xpath('//h1[@class=\"entry-title\"]')\n",
    "len(name)\n",
    "name[0:1]"
   ]
  },
  {
   "cell_type": "code",
   "execution_count": 5,
   "id": "7f5cf928",
   "metadata": {},
   "outputs": [
    {
     "data": {
      "text/plain": [
       "['Selenium Exception Handling (Common Exceptions List)']"
      ]
     },
     "execution_count": 5,
     "metadata": {},
     "output_type": "execute_result"
    }
   ],
   "source": [
    "names = []\n",
    "\n",
    "for i in name:\n",
    "    names.append(i.text)\n",
    "names[0:1]"
   ]
  },
  {
   "cell_type": "code",
   "execution_count": 8,
   "id": "13b18959",
   "metadata": {},
   "outputs": [
    {
     "data": {
      "text/plain": [
       "[<selenium.webdriver.remote.webelement.WebElement (session=\"75d6ab57439b70993c4d9f26a187c3c1\", element=\"225d70ab-bfe9-4c57-8037-9d5d70792da5\")>]"
      ]
     },
     "execution_count": 8,
     "metadata": {},
     "output_type": "execute_result"
    }
   ],
   "source": [
    "description = driver.find_elements_by_xpath('//div[@class=\"entry-content single-content\"]')\n",
    "len(description)\n",
    "description[0:1]"
   ]
  },
  {
   "cell_type": "code",
   "execution_count": 9,
   "id": "6355cd1f",
   "metadata": {},
   "outputs": [
    {
     "data": {
      "text/plain": [
       "['What is an Exceptions?\\nAn exception is an error that happens at the time of execution of a program. However, while running a program, programming languages generates an exception that should be handled to avoid your program to crash.\\nThe exception indicates that, although the event can occur, this type of event happens infrequently. When the method is not able to handle the Exception, it is thrown to its caller function. Eventually, when an exception is thrown out of the main function, the program is terminated abruptly.\\nIn this tutorial, you will learn:\\nWhat is an Exceptions?\\nExceptions in Selenium Web driver\\nHandling Selenium Exceptions\\nMethods for displaying Exception\\nCommon Exceptions in Selenium Web driver\\nException name Description\\nElementNotVisibleException This type of Selenium exception occurs when an existing element in DOM has a feature set as hidden.\\nElementNotSelectableException This Selenium exception occurs when an element is presented in the DOM, but you can be able to select. Therefore, it is not possible to interact.\\nNoSuchElementException This Exception occurs if an element could not be found.\\nNoSuchFrameException This Exception occurs if the frame target to be switched to does not exist.\\nNoAlertPresentException This Exception occurs when you switch to no presented alert.\\nNoSuchWindowException This Exception occurs if the window target to be switch does not exist.\\nStaleElementReferenceException This Selenium exception occurs happens when the web element is detached from the current DOM.\\nSessionNotFoundException The WebDriver is acting after you quit the browser.\\nTimeoutException Thrown when there is not enough time for a command to be completed. For Example, the element searched wasn’t found in the specified time.\\nWebDriverException This Exception takes place when the WebDriver is acting right after you close the browser.\\nConnectionClosedException This type of Exception takes place when there is a disconnection in the driver.\\nElementClickInterceptedException The command may not be completed as the element receiving the events is concealing the element which was requested clicked.\\nElementNotInteractableException This Selenium exception is thrown when any element is presented in the DOM. However, it is impossible to interact with such an element.\\nErrorInResponseException This happens while interacting with the Firefox extension or the remote driver server.\\nErrorHandler.UnknownServerException Exception is used as a placeholder in case if the server returns an error without a stack trace.\\nImeActivationFailedException This expectation will occur when IME engine activation has failed.\\nImeNotAvailableException It takes place when IME support is unavailable.\\nInsecureCertificateException Navigation made the user agent to hit a certificate warning. This can cause by an invalid or expired TLS certificate.\\nInvalidArgumentException It occurs when an argument does not belong to the expected type.\\nInvalidCookieDomainException This happens when you try to add a cookie under a different domain instead of current URL.\\nInvalidCoordinatesException This type of Exception matches an interacting operation that is not valid.\\nInvalidElementStateExceptio It occurs when command can’t be finished when the element is invalid.\\nInvalidSessionIdException This Exception took place when the given session ID is not included in the list of active sessions. It means the session does not exist or is inactive either.\\nInvalidSwitchToTargetException This occurs when the frame or window target to be switched does not exist.\\nJavascriptException This issue occurs while executing JavaScript given by the user.\\nJsonException It occurs when you afford to get the session when the session is not created.\\nNoSuchAttributeException This kind of Exception occurs when the attribute of an element could not be found.\\nMoveTargetOutOfBoundsException It takes place if the target provided to the ActionChains move() methodology is not valid. For Example, out of the document.\\nNoSuchContextException ContextAware does mobile device testing.\\nNoSuchCookieException This Exception occurs when no cookie matching with the given pathname found for all the associated cookies of the currently browsing document.\\nNotFoundException This Exception is a subclass of WebDriverException. This will occur when an element on the DOM does not exist.\\nRemoteDriverServerException This Selenium exception is thrown when the server is not responding because of the problem that the capabilities described are not proper.\\nScreenshotException It is not possible to capture a screen.\\nSessionNotCreatedException It happens when a new session could not be successfully created.\\nUnableToSetCookieException This occurs if a driver is unable to set a cookie.\\nUnexpectedTagNameException Happens if a support class did not get a web element as expected.\\nUnhandledAlertException This expectation occurs when there is an alert, but WebDriver is not able to perform Alert operation.\\nUnexpectedAlertPresentException It occurs when there is the appearance of an unexpected alert.\\nUnknownMethodException This Exception happens when the requested command matches with a known URL but and not matching with a methodology for a specific URL.\\nUnreachableBrowserException This Exception occurs only when the browser is not able to be opened or crashed because of some reason.\\nUnsupportedCommandException This occurs when remote WebDriver does n’t send valid commands as expected.\\nHandling Selenium Exceptions\\nHere, are some important standard using which you can handle Exceptions in Selenium WebDriver:\\nTry-catch: This method can catch Exceptions, which uses a combination of the try and catch keywords. Try command indicates the start of the block, and Catch is placed at the end of the try block, which helps to resolve the Exception.\\ntry\\n{\\n// Code\\n} catch (Exception e) {\\n// Code for Handling exception\\n}\\nMultiple catch blocks: There are various types of Exceptions, and you can expect more than one exception from a single block of code. Multiple catches help you to handle every type of Exception separately with a separate block of code. It can be used for more than two catch blocks, and there is no limitation on the number of catch blocks.\\ntry\\n{\\n//Code\\n} catch (ExceptionType1 e1) {\\n//Code for Handling Exception 1\\n} catch (ExceptionType2 e2) {\\n//Code for Handling Exception 2\\n}\\nThrow: When you want to generate an Exception, the Throw keyword is used to throw Exception to handle it in the run time. When you are throwing an Exception without handling it, then they need to use Throw keyword.\\npublic static void anyFunction() throws Exception{\\n\\ntry {\\n// write your code here\\n} Catch (Exception b) {\\n// Do whatever you want to perform \\n// Throw the Exception back to the system\\nthrow(b);\\n}\\n}\\nMultiple Exceptions: You can mention various Exceptions in the throws clause.\\npublic static void anyFunction() throws ExceptionType1, ExceptionType2{\\n\\ntry {\\n// write your code here\\n} catch (ExceptionType1 e1) {\\n// Code to handle exception 1\\n} catch (ExceptionType1 e2) {\\n// Code to handle exception 2\\n}\\nFinally: The Final keyword is used to create a block of code under the try block. It is the final code that helps you to executes irrespective of the occurrence of an exception\\ntry {\\n//Code\\n} catch (ExceptionType1 e1) {\\n//Catch block\\n} catch (ExceptionType2 e2) {\\n//Catch block\\n} catch (ExceptionType3 e3) {\\n//Catch block\\n} finally {\\n//The finally block always executes.\\n}\\nMethods for displaying Exception\\nYou can also use the following methods to display Exception Information:\\nprintStackTrace(): This function prints stack trace, name of the Exception, and other useful description.\\ntoString(): This function returns a text message describing the exception name and description.\\ngetMessage(): Helps to displays the description of the Exception.\\nSummary:\\nAn exception is an error that happens at the time of execution of a program.\\nTry-catch: This method can catch Exceptions, which uses a combination of the try and catch keywords.\\nMultiple catches help you to handle every type of Exception separately with a separate block of code.\\nThrow keyword is used to throw Exception to handle it in the run time.\\nprintStackTrace(): This function prints stack trace, name of the Exception, and other useful description\\ntoString(): This function returns a text message describing the exception name and description.\\ngetMessage(): Helps to displays the description of the Exception.\\nYou Might Like:\\nHow to Select Date from DatePicker/Calendar in Selenium Webdriver\\nSelenium Alert & Popup Window Handling: How to Handle?\\nHow to Create Firefox Profile in Selenium WebDriver\\nSelenium Webdriver with Python: Tutorial with Example\\nTestNG Reports Generation in Selenium: How to Generate?']"
      ]
     },
     "execution_count": 9,
     "metadata": {},
     "output_type": "execute_result"
    }
   ],
   "source": [
    "descriptions = []\n",
    "\n",
    "for i in description:\n",
    "    descriptions.append(i.text)\n",
    "descriptions[0:1]"
   ]
  },
  {
   "cell_type": "code",
   "execution_count": 13,
   "id": "858f6710",
   "metadata": {},
   "outputs": [],
   "source": [
    "driver = webdriver.Chrome(r'C:\\Users\\PC\\Downloads\\chromedriver_win32 (1)\\chromedriver.exe')"
   ]
  },
  {
   "cell_type": "code",
   "execution_count": 14,
   "id": "5e18e526",
   "metadata": {},
   "outputs": [],
   "source": [
    "driver.get(\"https://github.com/\")"
   ]
  },
  {
   "cell_type": "code",
   "execution_count": 17,
   "id": "fd459113",
   "metadata": {},
   "outputs": [
    {
     "data": {
      "text/plain": [
       "[<selenium.webdriver.remote.webelement.WebElement (session=\"e995f5ac08f2d3a55e8b9131d4d46eb8\", element=\"89af53a6-317d-4d3b-a7ea-e53f822f9431\")>,\n",
       " <selenium.webdriver.remote.webelement.WebElement (session=\"e995f5ac08f2d3a55e8b9131d4d46eb8\", element=\"31c956d3-0d42-4c9d-9df3-649537244232\")>,\n",
       " <selenium.webdriver.remote.webelement.WebElement (session=\"e995f5ac08f2d3a55e8b9131d4d46eb8\", element=\"ab1af5c8-fe75-4784-a1b3-bc8c4b6d2b6d\")>,\n",
       " <selenium.webdriver.remote.webelement.WebElement (session=\"e995f5ac08f2d3a55e8b9131d4d46eb8\", element=\"bc45b1c7-4e8c-45e1-af86-c85e103a86c4\")>,\n",
       " <selenium.webdriver.remote.webelement.WebElement (session=\"e995f5ac08f2d3a55e8b9131d4d46eb8\", element=\"102ed4ca-b25e-4e4b-ac1f-7f4a7fbb72e2\")>]"
      ]
     },
     "execution_count": 17,
     "metadata": {},
     "output_type": "execute_result"
    }
   ],
   "source": [
    "title = driver.find_elements_by_xpath('//a[@class=\"v-align-middle\"]')\n",
    "len(title)\n",
    "title[0:5]"
   ]
  },
  {
   "cell_type": "code",
   "execution_count": 18,
   "id": "e6398679",
   "metadata": {},
   "outputs": [
    {
     "data": {
      "text/plain": [
       "['Ghost0159/Ghost-eShop-Homebrew',\n",
       " 'SocialCodia/GithubExplorer',\n",
       " 'dudugvili/BIU-Engineering-2021',\n",
       " 'Mbouendeu2015/Taxis',\n",
       " 'PaLeroy/QVMix']"
      ]
     },
     "execution_count": 18,
     "metadata": {},
     "output_type": "execute_result"
    }
   ],
   "source": [
    "titles = []\n",
    "\n",
    "for i in title:\n",
    "    titles.append(i.text)\n",
    "titles[0:5]"
   ]
  },
  {
   "cell_type": "code",
   "execution_count": 20,
   "id": "d7b3962b",
   "metadata": {},
   "outputs": [
    {
     "data": {
      "text/plain": [
       "[<selenium.webdriver.remote.webelement.WebElement (session=\"e995f5ac08f2d3a55e8b9131d4d46eb8\", element=\"7cfdac8f-2861-4e8b-a82a-3bd5d1eab39b\")>,\n",
       " <selenium.webdriver.remote.webelement.WebElement (session=\"e995f5ac08f2d3a55e8b9131d4d46eb8\", element=\"72e1fbeb-e150-477f-8a53-2548df1799dc\")>,\n",
       " <selenium.webdriver.remote.webelement.WebElement (session=\"e995f5ac08f2d3a55e8b9131d4d46eb8\", element=\"4dc88419-19a0-4fc2-bfae-7cbdc36767f3\")>,\n",
       " <selenium.webdriver.remote.webelement.WebElement (session=\"e995f5ac08f2d3a55e8b9131d4d46eb8\", element=\"f26c889f-034c-4bd3-b0cb-b7930168158c\")>,\n",
       " <selenium.webdriver.remote.webelement.WebElement (session=\"e995f5ac08f2d3a55e8b9131d4d46eb8\", element=\"33b7b59d-2e18-4916-bf64-51b568fc92ac\")>]"
      ]
     },
     "execution_count": 20,
     "metadata": {},
     "output_type": "execute_result"
    }
   ],
   "source": [
    "description = driver.find_elements_by_xpath('//p[@class=\"mb-1\"]')\n",
    "len(description)\n",
    "description[0:5]"
   ]
  },
  {
   "cell_type": "code",
   "execution_count": 21,
   "id": "6b704d15",
   "metadata": {},
   "outputs": [
    {
     "data": {
      "text/plain": [
       "['An Repositery with Ghost eShop Homebrew Source Code',\n",
       " 'The project uses the github API to fetch the github users and their repositery.',\n",
       " 'This is an open repositery for all BIU students that studies Electrical\\\\Computer Engineering to share algorithms and …',\n",
       " 'This repositery belongs to Mbouendeu LLC and their products...',\n",
       " 'Repositery for the paper \"QVMix and QVMix-Max: Extending the Deep Quality-Value Family of Algorithms to Cooperative M…']"
      ]
     },
     "execution_count": 21,
     "metadata": {},
     "output_type": "execute_result"
    }
   ],
   "source": [
    "descriptions = []\n",
    "\n",
    "for i in description:\n",
    "    descriptions.append(i.text)\n",
    "descriptions[0:5]"
   ]
  },
  {
   "cell_type": "code",
   "execution_count": 23,
   "id": "0b97e262",
   "metadata": {},
   "outputs": [
    {
     "data": {
      "text/plain": [
       "[<selenium.webdriver.remote.webelement.WebElement (session=\"e995f5ac08f2d3a55e8b9131d4d46eb8\", element=\"b5a66709-9179-4589-8dd7-f6e2d1df797b\")>,\n",
       " <selenium.webdriver.remote.webelement.WebElement (session=\"e995f5ac08f2d3a55e8b9131d4d46eb8\", element=\"f000d2c6-b2d5-4c5b-967d-37d510b12811\")>,\n",
       " <selenium.webdriver.remote.webelement.WebElement (session=\"e995f5ac08f2d3a55e8b9131d4d46eb8\", element=\"85dbbfd5-2d1b-498e-837b-72e6ce1789ad\")>,\n",
       " <selenium.webdriver.remote.webelement.WebElement (session=\"e995f5ac08f2d3a55e8b9131d4d46eb8\", element=\"cbc122ba-839d-4533-84d7-97e95e71f009\")>,\n",
       " <selenium.webdriver.remote.webelement.WebElement (session=\"e995f5ac08f2d3a55e8b9131d4d46eb8\", element=\"ffa4ef2b-887e-4e56-9960-9adaa8802a12\")>]"
      ]
     },
     "execution_count": 23,
     "metadata": {},
     "output_type": "execute_result"
    }
   ],
   "source": [
    "count = driver.find_elements_by_xpath('//a[@class=\"Link--muted\"]')\n",
    "len(count)\n",
    "count[0:5]"
   ]
  },
  {
   "cell_type": "code",
   "execution_count": 24,
   "id": "ce83a6a7",
   "metadata": {},
   "outputs": [
    {
     "data": {
      "text/plain": [
       "['29', '11', '6', '4', '4']"
      ]
     },
     "execution_count": 24,
     "metadata": {},
     "output_type": "execute_result"
    }
   ],
   "source": [
    "counts = []\n",
    "\n",
    "for i in count:\n",
    "    counts.append(i.text)\n",
    "counts[0:5]"
   ]
  },
  {
   "cell_type": "code",
   "execution_count": 28,
   "id": "08a0200f",
   "metadata": {},
   "outputs": [
    {
     "data": {
      "text/plain": [
       "[]"
      ]
     },
     "execution_count": 28,
     "metadata": {},
     "output_type": "execute_result"
    }
   ],
   "source": [
    "language = driver.find_elements_by_xpath('//div[@class=\"programmingLanguage\"]')\n",
    "len(language)\n",
    "language[0:5]"
   ]
  },
  {
   "cell_type": "code",
   "execution_count": 26,
   "id": "0dfff9fe",
   "metadata": {},
   "outputs": [
    {
     "data": {
      "text/plain": [
       "['29', 'C++', 'GPL-3.0 license', 'Updated on Dec 17, 2021', '11']"
      ]
     },
     "execution_count": 26,
     "metadata": {},
     "output_type": "execute_result"
    }
   ],
   "source": [
    "languages = []\n",
    "\n",
    "for i in language:\n",
    "    languages.append(i.text)\n",
    "languages[0:5]"
   ]
  },
  {
   "cell_type": "code",
   "execution_count": null,
   "id": "4ab1248a",
   "metadata": {},
   "outputs": [],
   "source": []
  }
 ],
 "metadata": {
  "kernelspec": {
   "display_name": "Python 3",
   "language": "python",
   "name": "python3"
  },
  "language_info": {
   "codemirror_mode": {
    "name": "ipython",
    "version": 3
   },
   "file_extension": ".py",
   "mimetype": "text/x-python",
   "name": "python",
   "nbconvert_exporter": "python",
   "pygments_lexer": "ipython3",
   "version": "3.8.8"
  }
 },
 "nbformat": 4,
 "nbformat_minor": 5
}
