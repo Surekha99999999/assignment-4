{
 "cells": [
  {
   "cell_type": "code",
   "execution_count": 1,
   "id": "15fc519b",
   "metadata": {},
   "outputs": [
    {
     "name": "stdout",
     "output_type": "stream",
     "text": [
      "Requirement already satisfied: selenium in c:\\programdata\\anaconda3\\lib\\site-packages (4.1.0)\n",
      "Requirement already satisfied: urllib3[secure]~=1.26 in c:\\programdata\\anaconda3\\lib\\site-packages (from selenium) (1.26.4)\n",
      "Requirement already satisfied: trio~=0.17 in c:\\programdata\\anaconda3\\lib\\site-packages (from selenium) (0.19.0)\n",
      "Requirement already satisfied: trio-websocket~=0.9 in c:\\programdata\\anaconda3\\lib\\site-packages (from selenium) (0.9.2)\n",
      "Requirement already satisfied: sortedcontainers in c:\\programdata\\anaconda3\\lib\\site-packages (from trio~=0.17->selenium) (2.3.0)\n",
      "Requirement already satisfied: outcome in c:\\programdata\\anaconda3\\lib\\site-packages (from trio~=0.17->selenium) (1.1.0)\n",
      "Requirement already satisfied: idna in c:\\programdata\\anaconda3\\lib\\site-packages (from trio~=0.17->selenium) (2.10)\n",
      "Requirement already satisfied: async-generator>=1.9 in c:\\programdata\\anaconda3\\lib\\site-packages (from trio~=0.17->selenium) (1.10)\n",
      "Requirement already satisfied: cffi>=1.14 in c:\\programdata\\anaconda3\\lib\\site-packages (from trio~=0.17->selenium) (1.14.5)\n",
      "Requirement already satisfied: attrs>=19.2.0 in c:\\programdata\\anaconda3\\lib\\site-packages (from trio~=0.17->selenium) (20.3.0)\n",
      "Requirement already satisfied: sniffio in c:\\programdata\\anaconda3\\lib\\site-packages (from trio~=0.17->selenium) (1.2.0)\n",
      "Requirement already satisfied: pycparser in c:\\programdata\\anaconda3\\lib\\site-packages (from cffi>=1.14->trio~=0.17->selenium) (2.20)\n",
      "Requirement already satisfied: wsproto>=0.14 in c:\\programdata\\anaconda3\\lib\\site-packages (from trio-websocket~=0.9->selenium) (1.0.0)\n",
      "Requirement already satisfied: certifi in c:\\programdata\\anaconda3\\lib\\site-packages (from urllib3[secure]~=1.26->selenium) (2020.12.5)\n",
      "Requirement already satisfied: pyOpenSSL>=0.14 in c:\\programdata\\anaconda3\\lib\\site-packages (from urllib3[secure]~=1.26->selenium) (20.0.1)\n",
      "Requirement already satisfied: cryptography>=1.3.4 in c:\\programdata\\anaconda3\\lib\\site-packages (from urllib3[secure]~=1.26->selenium) (3.4.7)\n",
      "Requirement already satisfied: six>=1.5.2 in c:\\programdata\\anaconda3\\lib\\site-packages (from pyOpenSSL>=0.14->urllib3[secure]~=1.26->selenium) (1.15.0)\n",
      "Requirement already satisfied: h11<1,>=0.9.0 in c:\\programdata\\anaconda3\\lib\\site-packages (from wsproto>=0.14->trio-websocket~=0.9->selenium) (0.12.0)\n"
     ]
    }
   ],
   "source": [
    "!pip install selenium"
   ]
  },
  {
   "cell_type": "code",
   "execution_count": 2,
   "id": "c0d1bb91",
   "metadata": {},
   "outputs": [],
   "source": [
    "import selenium\n",
    "from selenium import webdriver\n",
    "import pandas as pd \n",
    "import warnings\n",
    "warnings.filterwarnings(\"ignore\")"
   ]
  },
  {
   "cell_type": "code",
   "execution_count": 3,
   "id": "9ff17a86",
   "metadata": {},
   "outputs": [],
   "source": [
    "driver = webdriver.Chrome(r'C:\\Users\\PC\\Downloads\\chromedriver_win32 (1)\\chromedriver.exe')"
   ]
  },
  {
   "cell_type": "code",
   "execution_count": null,
   "id": "82591dd4",
   "metadata": {},
   "outputs": [],
   "source": [
    "driver.get(\"https://en.wikipedia.org/wiki/List_of_most-viewed_YouTube_videos\")"
   ]
  },
  {
   "cell_type": "code",
   "execution_count": 10,
   "id": "a5fabf36",
   "metadata": {},
   "outputs": [
    {
     "data": {
      "text/plain": [
       "[<selenium.webdriver.remote.webelement.WebElement (session=\"b7052c0dd2efb37ade07246fa5532818\", element=\"04869876-6538-4faf-a58c-3a62b30a236e\")>,\n",
       " <selenium.webdriver.remote.webelement.WebElement (session=\"b7052c0dd2efb37ade07246fa5532818\", element=\"985cf611-88a4-4fd3-8f06-e1d6cd1706f6\")>,\n",
       " <selenium.webdriver.remote.webelement.WebElement (session=\"b7052c0dd2efb37ade07246fa5532818\", element=\"5f85982e-ec3a-4e3d-a3ef-2f52756143e5\")>,\n",
       " <selenium.webdriver.remote.webelement.WebElement (session=\"b7052c0dd2efb37ade07246fa5532818\", element=\"ceee5bec-da5a-4705-acdd-f45934d9d3bd\")>,\n",
       " <selenium.webdriver.remote.webelement.WebElement (session=\"b7052c0dd2efb37ade07246fa5532818\", element=\"122b6290-bd81-4301-b52b-8b84ebb3f42f\")>,\n",
       " <selenium.webdriver.remote.webelement.WebElement (session=\"b7052c0dd2efb37ade07246fa5532818\", element=\"5cd5c2a0-ba25-4301-a014-cd4a021b0c5f\")>,\n",
       " <selenium.webdriver.remote.webelement.WebElement (session=\"b7052c0dd2efb37ade07246fa5532818\", element=\"34c39327-3647-43d6-bc0a-3982d0c47b84\")>,\n",
       " <selenium.webdriver.remote.webelement.WebElement (session=\"b7052c0dd2efb37ade07246fa5532818\", element=\"8545c5df-69aa-4477-b4a5-2a9d92810b6e\")>,\n",
       " <selenium.webdriver.remote.webelement.WebElement (session=\"b7052c0dd2efb37ade07246fa5532818\", element=\"ce0acf80-8f0c-4c07-8e7c-1a5f2e196775\")>,\n",
       " <selenium.webdriver.remote.webelement.WebElement (session=\"b7052c0dd2efb37ade07246fa5532818\", element=\"21b515c5-df6a-4df1-87b4-b2d1d797c13a\")>]"
      ]
     },
     "execution_count": 10,
     "metadata": {},
     "output_type": "execute_result"
    }
   ],
   "source": [
    "vedio_name = driver.find_elements_by_xpath('//a[@class=\"mw-redirect\"]')\n",
    "len(vedio_name)\n",
    "vedio_name[0:10]"
   ]
  },
  {
   "cell_type": "code",
   "execution_count": 11,
   "id": "5ecb0e8a",
   "metadata": {},
   "outputs": [
    {
     "data": {
      "text/plain": [
       "['music videos',\n",
       " 'Baby Shark Dance',\n",
       " 'Johny Johny Yes Papa',\n",
       " 'Cocomelon – Nursery Rhymes',\n",
       " 'Cocomelon – Nursery Rhymes',\n",
       " 'Cocomelon – Nursery Rhymes',\n",
       " 'Baby Shark Dance',\n",
       " 'Baby Shark Dance',\n",
       " 'Johny Johny Yes Papa',\n",
       " 'Baby Shark Dance']"
      ]
     },
     "execution_count": 11,
     "metadata": {},
     "output_type": "execute_result"
    }
   ],
   "source": [
    "vedio_names = []\n",
    "\n",
    "for i in vedio_name:\n",
    "    vedio_names.append(i.text)\n",
    "vedio_names[0:10]"
   ]
  },
  {
   "cell_type": "code",
   "execution_count": 12,
   "id": "cdcccfc8",
   "metadata": {},
   "outputs": [
    {
     "data": {
      "text/plain": [
       "[]"
      ]
     },
     "execution_count": 12,
     "metadata": {},
     "output_type": "execute_result"
    }
   ],
   "source": [
    "artist = driver.find_elements_by_xpath('//a[@class=\"Pinkfong\"]')\n",
    "len(artist)\n",
    "artist[0:10]"
   ]
  },
  {
   "cell_type": "code",
   "execution_count": 13,
   "id": "a10e479a",
   "metadata": {},
   "outputs": [],
   "source": [
    "driver = webdriver.Chrome(r'C:\\Users\\PC\\Downloads\\chromedriver_win32 (1)\\chromedriver.exe')"
   ]
  },
  {
   "cell_type": "code",
   "execution_count": 14,
   "id": "d848dc73",
   "metadata": {},
   "outputs": [],
   "source": [
    "driver.get(\"https://www.bcci.tv/.\")"
   ]
  },
  {
   "cell_type": "code",
   "execution_count": 18,
   "id": "4ae0dd2f",
   "metadata": {},
   "outputs": [
    {
     "data": {
      "text/plain": [
       "[<selenium.webdriver.remote.webelement.WebElement (session=\"92661c8ad4b4b9020f2605dc6ed2ea4d\", element=\"900aff31-7345-41a6-ac64-8d9ee92d9f7f\")>,\n",
       " <selenium.webdriver.remote.webelement.WebElement (session=\"92661c8ad4b4b9020f2605dc6ed2ea4d\", element=\"f9b1b3a1-3cfd-4dda-ad4e-e8866cd9fea2\")>,\n",
       " <selenium.webdriver.remote.webelement.WebElement (session=\"92661c8ad4b4b9020f2605dc6ed2ea4d\", element=\"89c6306a-ece4-4068-9d3f-d79995804d45\")>]"
      ]
     },
     "execution_count": 18,
     "metadata": {},
     "output_type": "execute_result"
    }
   ],
   "source": [
    "series = driver.find_elements_by_xpath('//span[@class=\"ng-binding\"]')\n",
    "len(series)\n",
    "series[0:3]"
   ]
  },
  {
   "cell_type": "code",
   "execution_count": 19,
   "id": "d780c927",
   "metadata": {},
   "outputs": [
    {
     "data": {
      "text/plain": [
       "['INDIA WOMEN TOUR OF NEW ZEALAND ODI SERIES 2022',\n",
       " 'INDIA WOMEN TOUR OF NEW ZEALAND ODI SERIES 2022',\n",
       " 'SRI LANKA TOUR OF INDIA T20 SERIES 2022']"
      ]
     },
     "execution_count": 19,
     "metadata": {},
     "output_type": "execute_result"
    }
   ],
   "source": [
    "serieses = []\n",
    "\n",
    "for i in series:\n",
    "    serieses.append(i.text)\n",
    "serieses[0:3]"
   ]
  },
  {
   "cell_type": "code",
   "execution_count": 20,
   "id": "3abc72fa",
   "metadata": {},
   "outputs": [
    {
     "data": {
      "text/plain": [
       "[<selenium.webdriver.remote.webelement.WebElement (session=\"92661c8ad4b4b9020f2605dc6ed2ea4d\", element=\"79c76960-634f-463d-aa47-b132b51b0164\")>,\n",
       " <selenium.webdriver.remote.webelement.WebElement (session=\"92661c8ad4b4b9020f2605dc6ed2ea4d\", element=\"8fe9ef21-9ba9-42d9-8187-ca9c051363db\")>,\n",
       " <selenium.webdriver.remote.webelement.WebElement (session=\"92661c8ad4b4b9020f2605dc6ed2ea4d\", element=\"864d6196-3184-435f-b5aa-f49e4001c096\")>]"
      ]
     },
     "execution_count": 20,
     "metadata": {},
     "output_type": "execute_result"
    }
   ],
   "source": [
    "match_title = driver.find_elements_by_xpath('//span[@class=\"matchOrderText ng-binding ng-scope\"]')\n",
    "len(match_title)\n",
    "match_title[0:3]"
   ]
  },
  {
   "cell_type": "code",
   "execution_count": 21,
   "id": "999267d6",
   "metadata": {},
   "outputs": [
    {
     "data": {
      "text/plain": [
       "['4th ODI -', '5th ODI -', '1st T20I -']"
      ]
     },
     "execution_count": 21,
     "metadata": {},
     "output_type": "execute_result"
    }
   ],
   "source": [
    "match_titles = []\n",
    "\n",
    "for i in match_title:\n",
    "    match_titles.append(i.text)\n",
    "match_titles[0:3]"
   ]
  },
  {
   "cell_type": "code",
   "execution_count": 22,
   "id": "f35282a7",
   "metadata": {},
   "outputs": [
    {
     "data": {
      "text/plain": [
       "[<selenium.webdriver.remote.webelement.WebElement (session=\"92661c8ad4b4b9020f2605dc6ed2ea4d\", element=\"c7d0f619-a770-435b-90c5-8fc391bab92f\")>,\n",
       " <selenium.webdriver.remote.webelement.WebElement (session=\"92661c8ad4b4b9020f2605dc6ed2ea4d\", element=\"2e575b14-a11d-4d95-a5ec-f22ac6dc3567\")>,\n",
       " <selenium.webdriver.remote.webelement.WebElement (session=\"92661c8ad4b4b9020f2605dc6ed2ea4d\", element=\"10d98fc8-4cbc-4008-9462-1aec616e50b7\")>]"
      ]
     },
     "execution_count": 22,
     "metadata": {},
     "output_type": "execute_result"
    }
   ],
   "source": [
    "place = driver.find_elements_by_xpath('//span[@class=\"ng-binding ng-scope\"]')\n",
    "len(place)\n",
    "place[0:3]"
   ]
  },
  {
   "cell_type": "code",
   "execution_count": 23,
   "id": "bfdd6f32",
   "metadata": {},
   "outputs": [
    {
     "data": {
      "text/plain": [
       "['John Davies Oval,',\n",
       " 'John Davies Oval,',\n",
       " 'Bharat Ratna Shri Atal Bihari Vajpayee Ekana Cricket Stadium,']"
      ]
     },
     "execution_count": 23,
     "metadata": {},
     "output_type": "execute_result"
    }
   ],
   "source": [
    "places = []\n",
    "\n",
    "for i in place:\n",
    "    places.append(i.text)\n",
    "places[0:3]"
   ]
  },
  {
   "cell_type": "code",
   "execution_count": 24,
   "id": "0a0858c2",
   "metadata": {},
   "outputs": [
    {
     "data": {
      "text/plain": [
       "[<selenium.webdriver.remote.webelement.WebElement (session=\"92661c8ad4b4b9020f2605dc6ed2ea4d\", element=\"64d2cb3f-3836-4355-9bb4-d427ab7d4d12\")>,\n",
       " <selenium.webdriver.remote.webelement.WebElement (session=\"92661c8ad4b4b9020f2605dc6ed2ea4d\", element=\"79b74cd0-758e-43d8-9c6c-c7370c255e3d\")>,\n",
       " <selenium.webdriver.remote.webelement.WebElement (session=\"92661c8ad4b4b9020f2605dc6ed2ea4d\", element=\"b4f6b1da-8737-416c-b1c0-6abead0391c4\")>]"
      ]
     },
     "execution_count": 24,
     "metadata": {},
     "output_type": "execute_result"
    }
   ],
   "source": [
    "date = driver.find_elements_by_xpath('//h5[@class=\"ng-binding\"]')\n",
    "len(date)\n",
    "date[0:3]"
   ]
  },
  {
   "cell_type": "code",
   "execution_count": 25,
   "id": "d53780d3",
   "metadata": {},
   "outputs": [
    {
     "data": {
      "text/plain": [
       "['22 FEB 2022', '24 FEB 2022', '24 FEB 2022']"
      ]
     },
     "execution_count": 25,
     "metadata": {},
     "output_type": "execute_result"
    }
   ],
   "source": [
    "dates = []\n",
    "\n",
    "for i in date:\n",
    "    dates.append(i.text)\n",
    "dates[0:3]"
   ]
  },
  {
   "cell_type": "code",
   "execution_count": 26,
   "id": "900b2e26",
   "metadata": {},
   "outputs": [
    {
     "data": {
      "text/plain": [
       "[<selenium.webdriver.remote.webelement.WebElement (session=\"92661c8ad4b4b9020f2605dc6ed2ea4d\", element=\"1ae1d761-4064-4683-b4f3-b72b2072ff16\")>,\n",
       " <selenium.webdriver.remote.webelement.WebElement (session=\"92661c8ad4b4b9020f2605dc6ed2ea4d\", element=\"cdb6830f-486b-4201-b402-aa2571e0cf96\")>,\n",
       " <selenium.webdriver.remote.webelement.WebElement (session=\"92661c8ad4b4b9020f2605dc6ed2ea4d\", element=\"8aa28884-7c2b-4c0a-83b3-ee7c8f66d3a7\")>]"
      ]
     },
     "execution_count": 26,
     "metadata": {},
     "output_type": "execute_result"
    }
   ],
   "source": [
    "time = driver.find_elements_by_xpath('//h5[@class=\"text-right ng-binding\"]')\n",
    "len(time)\n",
    "time[0:3]"
   ]
  },
  {
   "cell_type": "code",
   "execution_count": 27,
   "id": "59c38336",
   "metadata": {},
   "outputs": [
    {
     "data": {
      "text/plain": [
       "['3:30 AM IST', '3:30 AM IST', '7:00 PM IST']"
      ]
     },
     "execution_count": 27,
     "metadata": {},
     "output_type": "execute_result"
    }
   ],
   "source": [
    "times = []\n",
    "\n",
    "for i in time:\n",
    "    times.append(i.text)\n",
    "times[0:3]"
   ]
  },
  {
   "cell_type": "code",
   "execution_count": null,
   "id": "19d42fa0",
   "metadata": {},
   "outputs": [],
   "source": []
  }
 ],
 "metadata": {
  "kernelspec": {
   "display_name": "Python 3",
   "language": "python",
   "name": "python3"
  },
  "language_info": {
   "codemirror_mode": {
    "name": "ipython",
    "version": 3
   },
   "file_extension": ".py",
   "mimetype": "text/x-python",
   "name": "python",
   "nbconvert_exporter": "python",
   "pygments_lexer": "ipython3",
   "version": "3.8.8"
  }
 },
 "nbformat": 4,
 "nbformat_minor": 5
}
