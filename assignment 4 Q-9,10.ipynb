{
 "cells": [
  {
   "cell_type": "code",
   "execution_count": 1,
   "id": "82cd00f8",
   "metadata": {},
   "outputs": [],
   "source": [
    "import pandas as pd\n",
    "import numpy as np\n",
    "import selenium\n",
    "from selenium import webdriver\n",
    "from selenium.common.exceptions import NoSuchElementException\n",
    "import warnings\n",
    "warnings.filterwarnings('ignore')"
   ]
  },
  {
   "cell_type": "code",
   "execution_count": 7,
   "id": "dbe3461a",
   "metadata": {},
   "outputs": [],
   "source": [
    "driver = webdriver.Chrome(r'C:\\Users\\PC\\Downloads\\chromedriver_win32 (1)\\chromedriver.exe')"
   ]
  },
  {
   "cell_type": "code",
   "execution_count": 8,
   "id": "209caa62",
   "metadata": {},
   "outputs": [],
   "source": [
    "driver.get(\"https://www.imdb.com/list/ls095964455/\")"
   ]
  },
  {
   "cell_type": "code",
   "execution_count": 9,
   "id": "e8a59f15",
   "metadata": {},
   "outputs": [
    {
     "data": {
      "text/plain": [
       "[<selenium.webdriver.remote.webelement.WebElement (session=\"4bb22f1fd5425e8f9df799f1f5a5a514\", element=\"2a4493c6-59fa-4c80-8154-198c5a2b6d34\")>,\n",
       " <selenium.webdriver.remote.webelement.WebElement (session=\"4bb22f1fd5425e8f9df799f1f5a5a514\", element=\"cf78fffb-cd74-4171-93de-e06f9179afb7\")>,\n",
       " <selenium.webdriver.remote.webelement.WebElement (session=\"4bb22f1fd5425e8f9df799f1f5a5a514\", element=\"20a60ef9-4a55-4e2f-b099-699b61da9471\")>,\n",
       " <selenium.webdriver.remote.webelement.WebElement (session=\"4bb22f1fd5425e8f9df799f1f5a5a514\", element=\"0b835a89-be95-43fc-821e-8dc1d13c38b8\")>,\n",
       " <selenium.webdriver.remote.webelement.WebElement (session=\"4bb22f1fd5425e8f9df799f1f5a5a514\", element=\"5f55fcba-c171-481a-be50-fdeedcfbd14d\")>,\n",
       " <selenium.webdriver.remote.webelement.WebElement (session=\"4bb22f1fd5425e8f9df799f1f5a5a514\", element=\"77ae3531-0b5f-4b37-aa0a-3ce64d0e23f7\")>,\n",
       " <selenium.webdriver.remote.webelement.WebElement (session=\"4bb22f1fd5425e8f9df799f1f5a5a514\", element=\"6f5589c0-face-406d-bba7-3f4c4fb41c0b\")>,\n",
       " <selenium.webdriver.remote.webelement.WebElement (session=\"4bb22f1fd5425e8f9df799f1f5a5a514\", element=\"9c7793eb-8578-4921-a948-f99eada4acd2\")>,\n",
       " <selenium.webdriver.remote.webelement.WebElement (session=\"4bb22f1fd5425e8f9df799f1f5a5a514\", element=\"2d8c6fe6-2118-4e7d-aa89-e93ddbf25c12\")>,\n",
       " <selenium.webdriver.remote.webelement.WebElement (session=\"4bb22f1fd5425e8f9df799f1f5a5a514\", element=\"579491a9-1a68-4444-84e1-f6e976c06f19\")>]"
      ]
     },
     "execution_count": 9,
     "metadata": {},
     "output_type": "execute_result"
    }
   ],
   "source": [
    "name = driver.find_elements_by_xpath('//h3[@class=\"lister-item-header\"]')\n",
    "len(name)\n",
    "name[0:10]"
   ]
  },
  {
   "cell_type": "code",
   "execution_count": 10,
   "id": "05c64e5c",
   "metadata": {},
   "outputs": [
    {
     "data": {
      "text/plain": [
       "['1. Game of Thrones (2011–2019)',\n",
       " '2. Stranger Things (2016– )',\n",
       " '3. The Walking Dead (2010–2022)',\n",
       " '4. 13 Reasons Why (2017–2020)',\n",
       " '5. The 100 (2014–2020)',\n",
       " '6. Orange Is the New Black (2013–2019)',\n",
       " '7. Riverdale (2017– )',\n",
       " \"8. Grey's Anatomy (2005– )\",\n",
       " '9. The Flash (2014– )',\n",
       " '10. Arrow (2012–2020)']"
      ]
     },
     "execution_count": 10,
     "metadata": {},
     "output_type": "execute_result"
    }
   ],
   "source": [
    "names = []\n",
    "\n",
    "for i in name:\n",
    "    names.append(i.text)\n",
    "names[0:10]"
   ]
  },
  {
   "cell_type": "code",
   "execution_count": 11,
   "id": "993a11b0",
   "metadata": {},
   "outputs": [
    {
     "data": {
      "text/plain": [
       "[<selenium.webdriver.remote.webelement.WebElement (session=\"4bb22f1fd5425e8f9df799f1f5a5a514\", element=\"9d85a0f2-74d7-4036-b082-b68595269bf8\")>,\n",
       " <selenium.webdriver.remote.webelement.WebElement (session=\"4bb22f1fd5425e8f9df799f1f5a5a514\", element=\"8e5c9514-065f-49eb-88b9-23883fa6acd9\")>,\n",
       " <selenium.webdriver.remote.webelement.WebElement (session=\"4bb22f1fd5425e8f9df799f1f5a5a514\", element=\"8121d0b2-35c8-4692-8921-2bd2cb0ddfee\")>,\n",
       " <selenium.webdriver.remote.webelement.WebElement (session=\"4bb22f1fd5425e8f9df799f1f5a5a514\", element=\"c26c7c80-df0e-4487-9930-975e545e9437\")>,\n",
       " <selenium.webdriver.remote.webelement.WebElement (session=\"4bb22f1fd5425e8f9df799f1f5a5a514\", element=\"8195879f-d927-4aa2-92d1-afca6e0f3e03\")>,\n",
       " <selenium.webdriver.remote.webelement.WebElement (session=\"4bb22f1fd5425e8f9df799f1f5a5a514\", element=\"95e11eb9-46ec-41df-9d24-a1626cbf8ef5\")>,\n",
       " <selenium.webdriver.remote.webelement.WebElement (session=\"4bb22f1fd5425e8f9df799f1f5a5a514\", element=\"487db6e5-ce55-4613-8a55-94d2d6992b55\")>,\n",
       " <selenium.webdriver.remote.webelement.WebElement (session=\"4bb22f1fd5425e8f9df799f1f5a5a514\", element=\"5eeb1bbe-90ae-4f9e-8672-4ae77e67f7a4\")>,\n",
       " <selenium.webdriver.remote.webelement.WebElement (session=\"4bb22f1fd5425e8f9df799f1f5a5a514\", element=\"7438b118-7db5-4b5e-a1f1-2065dfdd7170\")>,\n",
       " <selenium.webdriver.remote.webelement.WebElement (session=\"4bb22f1fd5425e8f9df799f1f5a5a514\", element=\"6296eb82-4af9-485a-93db-fcb39a145504\")>]"
      ]
     },
     "execution_count": 11,
     "metadata": {},
     "output_type": "execute_result"
    }
   ],
   "source": [
    "genre = driver.find_elements_by_xpath('//span[@class=\"genre\"]')\n",
    "len(genre)\n",
    "genre[0:10]"
   ]
  },
  {
   "cell_type": "code",
   "execution_count": 12,
   "id": "55259393",
   "metadata": {},
   "outputs": [
    {
     "data": {
      "text/plain": [
       "['Action, Adventure, Drama',\n",
       " 'Drama, Fantasy, Horror',\n",
       " 'Drama, Horror, Thriller',\n",
       " 'Drama, Mystery, Thriller',\n",
       " 'Drama, Mystery, Sci-Fi',\n",
       " 'Comedy, Crime, Drama',\n",
       " 'Crime, Drama, Mystery',\n",
       " 'Drama, Romance',\n",
       " 'Action, Adventure, Drama',\n",
       " 'Action, Adventure, Crime']"
      ]
     },
     "execution_count": 12,
     "metadata": {},
     "output_type": "execute_result"
    }
   ],
   "source": [
    "genres = []\n",
    "\n",
    "for i in genre:\n",
    "    genres.append(i.text)\n",
    "genres[0:10]"
   ]
  },
  {
   "cell_type": "code",
   "execution_count": 15,
   "id": "16588566",
   "metadata": {},
   "outputs": [
    {
     "data": {
      "text/plain": [
       "[<selenium.webdriver.remote.webelement.WebElement (session=\"4bb22f1fd5425e8f9df799f1f5a5a514\", element=\"d5871d23-079a-49ce-b98d-8b5149e58489\")>,\n",
       " <selenium.webdriver.remote.webelement.WebElement (session=\"4bb22f1fd5425e8f9df799f1f5a5a514\", element=\"00e6d28c-8e6d-4827-b8d5-bd7ff018e3d8\")>,\n",
       " <selenium.webdriver.remote.webelement.WebElement (session=\"4bb22f1fd5425e8f9df799f1f5a5a514\", element=\"a6d6e4fc-cca3-4ec8-bfa8-2c0ccdeae3a5\")>,\n",
       " <selenium.webdriver.remote.webelement.WebElement (session=\"4bb22f1fd5425e8f9df799f1f5a5a514\", element=\"aae1bd63-2021-413a-8d4e-1304b4236888\")>,\n",
       " <selenium.webdriver.remote.webelement.WebElement (session=\"4bb22f1fd5425e8f9df799f1f5a5a514\", element=\"5a3e3533-0ba8-4da6-83ac-dbb1ac437569\")>,\n",
       " <selenium.webdriver.remote.webelement.WebElement (session=\"4bb22f1fd5425e8f9df799f1f5a5a514\", element=\"8759e743-364d-4c1e-b9b9-d84dc074c030\")>,\n",
       " <selenium.webdriver.remote.webelement.WebElement (session=\"4bb22f1fd5425e8f9df799f1f5a5a514\", element=\"ddb2bcd9-9173-47af-93c9-6722b13a2589\")>,\n",
       " <selenium.webdriver.remote.webelement.WebElement (session=\"4bb22f1fd5425e8f9df799f1f5a5a514\", element=\"4cec5601-5018-4227-9f20-762184428125\")>,\n",
       " <selenium.webdriver.remote.webelement.WebElement (session=\"4bb22f1fd5425e8f9df799f1f5a5a514\", element=\"0aa6e34d-8d04-43a8-b1f4-2ca9a74b4eca\")>,\n",
       " <selenium.webdriver.remote.webelement.WebElement (session=\"4bb22f1fd5425e8f9df799f1f5a5a514\", element=\"bea959f8-97a0-4d65-8233-cde85a3cd7c7\")>]"
      ]
     },
     "execution_count": 15,
     "metadata": {},
     "output_type": "execute_result"
    }
   ],
   "source": [
    "runtime = driver.find_elements_by_xpath('//span[@class=\"runtime\"]')\n",
    "len(runtime)\n",
    "runtime[0:10]"
   ]
  },
  {
   "cell_type": "code",
   "execution_count": 16,
   "id": "ccce2cd8",
   "metadata": {},
   "outputs": [
    {
     "data": {
      "text/plain": [
       "['57 min',\n",
       " '51 min',\n",
       " '44 min',\n",
       " '60 min',\n",
       " '43 min',\n",
       " '59 min',\n",
       " '45 min',\n",
       " '41 min',\n",
       " '43 min',\n",
       " '42 min']"
      ]
     },
     "execution_count": 16,
     "metadata": {},
     "output_type": "execute_result"
    }
   ],
   "source": [
    "runtimes = []\n",
    "\n",
    "for i in runtime:\n",
    "    runtimes.append(i.text)\n",
    "runtimes[0:10]"
   ]
  },
  {
   "cell_type": "code",
   "execution_count": 17,
   "id": "61feef31",
   "metadata": {},
   "outputs": [
    {
     "data": {
      "text/plain": [
       "[<selenium.webdriver.remote.webelement.WebElement (session=\"4bb22f1fd5425e8f9df799f1f5a5a514\", element=\"8c05d8be-5c3b-43a3-9283-4c09de74604d\")>,\n",
       " <selenium.webdriver.remote.webelement.WebElement (session=\"4bb22f1fd5425e8f9df799f1f5a5a514\", element=\"bab135d6-da8c-4cf1-b95f-daf95ead8af8\")>,\n",
       " <selenium.webdriver.remote.webelement.WebElement (session=\"4bb22f1fd5425e8f9df799f1f5a5a514\", element=\"5cd99df4-c5e2-4569-b554-7aa95af01099\")>,\n",
       " <selenium.webdriver.remote.webelement.WebElement (session=\"4bb22f1fd5425e8f9df799f1f5a5a514\", element=\"76a094f4-0c71-491d-aebb-6ba655639807\")>,\n",
       " <selenium.webdriver.remote.webelement.WebElement (session=\"4bb22f1fd5425e8f9df799f1f5a5a514\", element=\"97cd77d9-acc1-44fc-9afd-e67c89290e67\")>,\n",
       " <selenium.webdriver.remote.webelement.WebElement (session=\"4bb22f1fd5425e8f9df799f1f5a5a514\", element=\"b626d777-92b8-4bb7-bb18-4ddbd2418045\")>,\n",
       " <selenium.webdriver.remote.webelement.WebElement (session=\"4bb22f1fd5425e8f9df799f1f5a5a514\", element=\"fc9fd6f9-1a21-4610-b832-ed81bb7034fa\")>,\n",
       " <selenium.webdriver.remote.webelement.WebElement (session=\"4bb22f1fd5425e8f9df799f1f5a5a514\", element=\"f862da27-9816-4cde-81cd-e64cb0a11197\")>,\n",
       " <selenium.webdriver.remote.webelement.WebElement (session=\"4bb22f1fd5425e8f9df799f1f5a5a514\", element=\"3dd82abb-872c-4946-ac3d-adf43a249bcd\")>,\n",
       " <selenium.webdriver.remote.webelement.WebElement (session=\"4bb22f1fd5425e8f9df799f1f5a5a514\", element=\"a50c4d6a-ab25-4b13-b62f-1b073f19a5ce\")>]"
      ]
     },
     "execution_count": 17,
     "metadata": {},
     "output_type": "execute_result"
    }
   ],
   "source": [
    "rating = driver.find_elements_by_xpath('//span[@class=\"ipl-rating-star__rating\"]')\n",
    "len(rating)\n",
    "rating[0:10]"
   ]
  },
  {
   "cell_type": "code",
   "execution_count": 26,
   "id": "09ca3163",
   "metadata": {},
   "outputs": [
    {
     "ename": "WebDriverException",
     "evalue": "Message: chrome not reachable\n  (Session info: chrome=98.0.4758.102)\nStacktrace:\nBacktrace:\n\tOrdinal0 [0x0092FDC3+2555331]\n\tOrdinal0 [0x008C77F1+2127857]\n\tOrdinal0 [0x007C2CD0+1060048]\n\tOrdinal0 [0x007B7BE2+1014754]\n\tOrdinal0 [0x007B83E8+1016808]\n\tOrdinal0 [0x007B9C02+1022978]\n\tOrdinal0 [0x007B3AB9+998073]\n\tOrdinal0 [0x007C4040+1065024]\n\tOrdinal0 [0x00816DC2+1404354]\n\tOrdinal0 [0x00807976+1341814]\n\tOrdinal0 [0x007E36B6+1193654]\n\tOrdinal0 [0x007E4546+1197382]\n\tGetHandleVerifier [0x00AC9622+1619522]\n\tGetHandleVerifier [0x00B7882C+2336844]\n\tGetHandleVerifier [0x009C23E1+541697]\n\tGetHandleVerifier [0x009C1443+537699]\n\tOrdinal0 [0x008CD18E+2150798]\n\tOrdinal0 [0x008D1518+2168088]\n\tOrdinal0 [0x008D1660+2168416]\n\tOrdinal0 [0x008DB330+2208560]\n\tBaseThreadInitThunk [0x7665FA29+25]\n\tRtlGetAppContainerNamedObjectPath [0x77317A9E+286]\n\tRtlGetAppContainerNamedObjectPath [0x77317A6E+238]\n",
     "output_type": "error",
     "traceback": [
      "\u001b[1;31m---------------------------------------------------------------------------\u001b[0m",
      "\u001b[1;31mWebDriverException\u001b[0m                        Traceback (most recent call last)",
      "\u001b[1;32m<ipython-input-26-edc8d2fec57e>\u001b[0m in \u001b[0;36m<module>\u001b[1;34m\u001b[0m\n\u001b[0;32m      2\u001b[0m \u001b[1;33m\u001b[0m\u001b[0m\n\u001b[0;32m      3\u001b[0m \u001b[1;32mfor\u001b[0m \u001b[0mi\u001b[0m \u001b[1;32min\u001b[0m \u001b[0mrating\u001b[0m\u001b[1;33m:\u001b[0m\u001b[1;33m\u001b[0m\u001b[1;33m\u001b[0m\u001b[0m\n\u001b[1;32m----> 4\u001b[1;33m     \u001b[0mratings\u001b[0m\u001b[1;33m.\u001b[0m\u001b[0mappend\u001b[0m\u001b[1;33m(\u001b[0m\u001b[0mi\u001b[0m\u001b[1;33m.\u001b[0m\u001b[0mtext\u001b[0m\u001b[1;33m)\u001b[0m\u001b[1;33m\u001b[0m\u001b[1;33m\u001b[0m\u001b[0m\n\u001b[0m\u001b[0;32m      5\u001b[0m \u001b[0mratings\u001b[0m\u001b[1;33m[\u001b[0m\u001b[1;36m0\u001b[0m\u001b[1;33m:\u001b[0m\u001b[1;36m10\u001b[0m\u001b[1;33m]\u001b[0m\u001b[1;33m\u001b[0m\u001b[1;33m\u001b[0m\u001b[0m\n",
      "\u001b[1;32mC:\\ProgramData\\Anaconda3\\lib\\site-packages\\selenium\\webdriver\\remote\\webelement.py\u001b[0m in \u001b[0;36mtext\u001b[1;34m(self)\u001b[0m\n\u001b[0;32m     75\u001b[0m     \u001b[1;32mdef\u001b[0m \u001b[0mtext\u001b[0m\u001b[1;33m(\u001b[0m\u001b[0mself\u001b[0m\u001b[1;33m)\u001b[0m \u001b[1;33m->\u001b[0m \u001b[0mstr\u001b[0m\u001b[1;33m:\u001b[0m\u001b[1;33m\u001b[0m\u001b[1;33m\u001b[0m\u001b[0m\n\u001b[0;32m     76\u001b[0m         \u001b[1;34m\"\"\"The text of the element.\"\"\"\u001b[0m\u001b[1;33m\u001b[0m\u001b[1;33m\u001b[0m\u001b[0m\n\u001b[1;32m---> 77\u001b[1;33m         \u001b[1;32mreturn\u001b[0m \u001b[0mself\u001b[0m\u001b[1;33m.\u001b[0m\u001b[0m_execute\u001b[0m\u001b[1;33m(\u001b[0m\u001b[0mCommand\u001b[0m\u001b[1;33m.\u001b[0m\u001b[0mGET_ELEMENT_TEXT\u001b[0m\u001b[1;33m)\u001b[0m\u001b[1;33m[\u001b[0m\u001b[1;34m'value'\u001b[0m\u001b[1;33m]\u001b[0m\u001b[1;33m\u001b[0m\u001b[1;33m\u001b[0m\u001b[0m\n\u001b[0m\u001b[0;32m     78\u001b[0m \u001b[1;33m\u001b[0m\u001b[0m\n\u001b[0;32m     79\u001b[0m     \u001b[1;32mdef\u001b[0m \u001b[0mclick\u001b[0m\u001b[1;33m(\u001b[0m\u001b[0mself\u001b[0m\u001b[1;33m)\u001b[0m \u001b[1;33m->\u001b[0m \u001b[1;32mNone\u001b[0m\u001b[1;33m:\u001b[0m\u001b[1;33m\u001b[0m\u001b[1;33m\u001b[0m\u001b[0m\n",
      "\u001b[1;32mC:\\ProgramData\\Anaconda3\\lib\\site-packages\\selenium\\webdriver\\remote\\webelement.py\u001b[0m in \u001b[0;36m_execute\u001b[1;34m(self, command, params)\u001b[0m\n\u001b[0;32m    708\u001b[0m             \u001b[0mparams\u001b[0m \u001b[1;33m=\u001b[0m \u001b[1;33m{\u001b[0m\u001b[1;33m}\u001b[0m\u001b[1;33m\u001b[0m\u001b[1;33m\u001b[0m\u001b[0m\n\u001b[0;32m    709\u001b[0m         \u001b[0mparams\u001b[0m\u001b[1;33m[\u001b[0m\u001b[1;34m'id'\u001b[0m\u001b[1;33m]\u001b[0m \u001b[1;33m=\u001b[0m \u001b[0mself\u001b[0m\u001b[1;33m.\u001b[0m\u001b[0m_id\u001b[0m\u001b[1;33m\u001b[0m\u001b[1;33m\u001b[0m\u001b[0m\n\u001b[1;32m--> 710\u001b[1;33m         \u001b[1;32mreturn\u001b[0m \u001b[0mself\u001b[0m\u001b[1;33m.\u001b[0m\u001b[0m_parent\u001b[0m\u001b[1;33m.\u001b[0m\u001b[0mexecute\u001b[0m\u001b[1;33m(\u001b[0m\u001b[0mcommand\u001b[0m\u001b[1;33m,\u001b[0m \u001b[0mparams\u001b[0m\u001b[1;33m)\u001b[0m\u001b[1;33m\u001b[0m\u001b[1;33m\u001b[0m\u001b[0m\n\u001b[0m\u001b[0;32m    711\u001b[0m \u001b[1;33m\u001b[0m\u001b[0m\n\u001b[0;32m    712\u001b[0m     \u001b[1;32mdef\u001b[0m \u001b[0mfind_element\u001b[0m\u001b[1;33m(\u001b[0m\u001b[0mself\u001b[0m\u001b[1;33m,\u001b[0m \u001b[0mby\u001b[0m\u001b[1;33m=\u001b[0m\u001b[0mBy\u001b[0m\u001b[1;33m.\u001b[0m\u001b[0mID\u001b[0m\u001b[1;33m,\u001b[0m \u001b[0mvalue\u001b[0m\u001b[1;33m=\u001b[0m\u001b[1;32mNone\u001b[0m\u001b[1;33m)\u001b[0m\u001b[1;33m:\u001b[0m\u001b[1;33m\u001b[0m\u001b[1;33m\u001b[0m\u001b[0m\n",
      "\u001b[1;32mC:\\ProgramData\\Anaconda3\\lib\\site-packages\\selenium\\webdriver\\remote\\webdriver.py\u001b[0m in \u001b[0;36mexecute\u001b[1;34m(self, driver_command, params)\u001b[0m\n\u001b[0;32m    422\u001b[0m         \u001b[0mresponse\u001b[0m \u001b[1;33m=\u001b[0m \u001b[0mself\u001b[0m\u001b[1;33m.\u001b[0m\u001b[0mcommand_executor\u001b[0m\u001b[1;33m.\u001b[0m\u001b[0mexecute\u001b[0m\u001b[1;33m(\u001b[0m\u001b[0mdriver_command\u001b[0m\u001b[1;33m,\u001b[0m \u001b[0mparams\u001b[0m\u001b[1;33m)\u001b[0m\u001b[1;33m\u001b[0m\u001b[1;33m\u001b[0m\u001b[0m\n\u001b[0;32m    423\u001b[0m         \u001b[1;32mif\u001b[0m \u001b[0mresponse\u001b[0m\u001b[1;33m:\u001b[0m\u001b[1;33m\u001b[0m\u001b[1;33m\u001b[0m\u001b[0m\n\u001b[1;32m--> 424\u001b[1;33m             \u001b[0mself\u001b[0m\u001b[1;33m.\u001b[0m\u001b[0merror_handler\u001b[0m\u001b[1;33m.\u001b[0m\u001b[0mcheck_response\u001b[0m\u001b[1;33m(\u001b[0m\u001b[0mresponse\u001b[0m\u001b[1;33m)\u001b[0m\u001b[1;33m\u001b[0m\u001b[1;33m\u001b[0m\u001b[0m\n\u001b[0m\u001b[0;32m    425\u001b[0m             response['value'] = self._unwrap_value(\n\u001b[0;32m    426\u001b[0m                 response.get('value', None))\n",
      "\u001b[1;32mC:\\ProgramData\\Anaconda3\\lib\\site-packages\\selenium\\webdriver\\remote\\errorhandler.py\u001b[0m in \u001b[0;36mcheck_response\u001b[1;34m(self, response)\u001b[0m\n\u001b[0;32m    245\u001b[0m                 \u001b[0malert_text\u001b[0m \u001b[1;33m=\u001b[0m \u001b[0mvalue\u001b[0m\u001b[1;33m[\u001b[0m\u001b[1;34m'alert'\u001b[0m\u001b[1;33m]\u001b[0m\u001b[1;33m.\u001b[0m\u001b[0mget\u001b[0m\u001b[1;33m(\u001b[0m\u001b[1;34m'text'\u001b[0m\u001b[1;33m)\u001b[0m\u001b[1;33m\u001b[0m\u001b[1;33m\u001b[0m\u001b[0m\n\u001b[0;32m    246\u001b[0m             \u001b[1;32mraise\u001b[0m \u001b[0mexception_class\u001b[0m\u001b[1;33m(\u001b[0m\u001b[0mmessage\u001b[0m\u001b[1;33m,\u001b[0m \u001b[0mscreen\u001b[0m\u001b[1;33m,\u001b[0m \u001b[0mstacktrace\u001b[0m\u001b[1;33m,\u001b[0m \u001b[0malert_text\u001b[0m\u001b[1;33m)\u001b[0m  \u001b[1;31m# type: ignore[call-arg]  # mypy is not smart enough here\u001b[0m\u001b[1;33m\u001b[0m\u001b[1;33m\u001b[0m\u001b[0m\n\u001b[1;32m--> 247\u001b[1;33m         \u001b[1;32mraise\u001b[0m \u001b[0mexception_class\u001b[0m\u001b[1;33m(\u001b[0m\u001b[0mmessage\u001b[0m\u001b[1;33m,\u001b[0m \u001b[0mscreen\u001b[0m\u001b[1;33m,\u001b[0m \u001b[0mstacktrace\u001b[0m\u001b[1;33m)\u001b[0m\u001b[1;33m\u001b[0m\u001b[1;33m\u001b[0m\u001b[0m\n\u001b[0m\u001b[0;32m    248\u001b[0m \u001b[1;33m\u001b[0m\u001b[0m\n\u001b[0;32m    249\u001b[0m     \u001b[1;32mdef\u001b[0m \u001b[0m_value_or_default\u001b[0m\u001b[1;33m(\u001b[0m\u001b[0mself\u001b[0m\u001b[1;33m,\u001b[0m \u001b[0mobj\u001b[0m\u001b[1;33m:\u001b[0m \u001b[0mMapping\u001b[0m\u001b[1;33m[\u001b[0m\u001b[0m_KT\u001b[0m\u001b[1;33m,\u001b[0m \u001b[0m_VT\u001b[0m\u001b[1;33m]\u001b[0m\u001b[1;33m,\u001b[0m \u001b[0mkey\u001b[0m\u001b[1;33m:\u001b[0m \u001b[0m_KT\u001b[0m\u001b[1;33m,\u001b[0m \u001b[0mdefault\u001b[0m\u001b[1;33m:\u001b[0m \u001b[0m_VT\u001b[0m\u001b[1;33m)\u001b[0m \u001b[1;33m->\u001b[0m \u001b[0m_VT\u001b[0m\u001b[1;33m:\u001b[0m\u001b[1;33m\u001b[0m\u001b[1;33m\u001b[0m\u001b[0m\n",
      "\u001b[1;31mWebDriverException\u001b[0m: Message: chrome not reachable\n  (Session info: chrome=98.0.4758.102)\nStacktrace:\nBacktrace:\n\tOrdinal0 [0x0092FDC3+2555331]\n\tOrdinal0 [0x008C77F1+2127857]\n\tOrdinal0 [0x007C2CD0+1060048]\n\tOrdinal0 [0x007B7BE2+1014754]\n\tOrdinal0 [0x007B83E8+1016808]\n\tOrdinal0 [0x007B9C02+1022978]\n\tOrdinal0 [0x007B3AB9+998073]\n\tOrdinal0 [0x007C4040+1065024]\n\tOrdinal0 [0x00816DC2+1404354]\n\tOrdinal0 [0x00807976+1341814]\n\tOrdinal0 [0x007E36B6+1193654]\n\tOrdinal0 [0x007E4546+1197382]\n\tGetHandleVerifier [0x00AC9622+1619522]\n\tGetHandleVerifier [0x00B7882C+2336844]\n\tGetHandleVerifier [0x009C23E1+541697]\n\tGetHandleVerifier [0x009C1443+537699]\n\tOrdinal0 [0x008CD18E+2150798]\n\tOrdinal0 [0x008D1518+2168088]\n\tOrdinal0 [0x008D1660+2168416]\n\tOrdinal0 [0x008DB330+2208560]\n\tBaseThreadInitThunk [0x7665FA29+25]\n\tRtlGetAppContainerNamedObjectPath [0x77317A9E+286]\n\tRtlGetAppContainerNamedObjectPath [0x77317A6E+238]\n"
     ]
    }
   ],
   "source": [
    "ratings = []\n",
    "\n",
    "for i in rating:\n",
    "    ratings.append(i.text)\n",
    "ratings[0:10]"
   ]
  },
  {
   "cell_type": "code",
   "execution_count": 20,
   "id": "8e61d6ee",
   "metadata": {},
   "outputs": [
    {
     "data": {
      "text/plain": [
       "[<selenium.webdriver.remote.webelement.WebElement (session=\"4bb22f1fd5425e8f9df799f1f5a5a514\", element=\"f37e588c-8803-45bc-991e-e1ff0fec72f6\")>,\n",
       " <selenium.webdriver.remote.webelement.WebElement (session=\"4bb22f1fd5425e8f9df799f1f5a5a514\", element=\"7b442288-8b6f-4cda-b4e2-ba6eba130eee\")>,\n",
       " <selenium.webdriver.remote.webelement.WebElement (session=\"4bb22f1fd5425e8f9df799f1f5a5a514\", element=\"7c332a98-cf54-430b-a146-a7ef1f47c97d\")>,\n",
       " <selenium.webdriver.remote.webelement.WebElement (session=\"4bb22f1fd5425e8f9df799f1f5a5a514\", element=\"6ff5113b-252f-4fb3-9548-c7dc7c4d6041\")>,\n",
       " <selenium.webdriver.remote.webelement.WebElement (session=\"4bb22f1fd5425e8f9df799f1f5a5a514\", element=\"b1ba3cdf-be50-409f-8a3a-12e50a0465b6\")>,\n",
       " <selenium.webdriver.remote.webelement.WebElement (session=\"4bb22f1fd5425e8f9df799f1f5a5a514\", element=\"a08b5ade-f5db-4463-90f4-fc6ebfa0b5bd\")>,\n",
       " <selenium.webdriver.remote.webelement.WebElement (session=\"4bb22f1fd5425e8f9df799f1f5a5a514\", element=\"e9f6cd50-6fac-49ea-9cb5-838b151a2a31\")>,\n",
       " <selenium.webdriver.remote.webelement.WebElement (session=\"4bb22f1fd5425e8f9df799f1f5a5a514\", element=\"b04bde35-707e-4ba0-9b1f-0d324aa5a43c\")>,\n",
       " <selenium.webdriver.remote.webelement.WebElement (session=\"4bb22f1fd5425e8f9df799f1f5a5a514\", element=\"472caa42-7f22-48f2-971b-cf255a09d64d\")>,\n",
       " <selenium.webdriver.remote.webelement.WebElement (session=\"4bb22f1fd5425e8f9df799f1f5a5a514\", element=\"fd0fc3ee-b431-46ae-9028-dc13c8761906\")>]"
      ]
     },
     "execution_count": 20,
     "metadata": {},
     "output_type": "execute_result"
    }
   ],
   "source": [
    "vote = driver.find_elements_by_xpath('//p[@class=\"text-muted text-small\"]')\n",
    "len(vote)\n",
    "vote[0:10]"
   ]
  },
  {
   "cell_type": "code",
   "execution_count": null,
   "id": "d3e63bab",
   "metadata": {},
   "outputs": [],
   "source": [
    "votes = []\n",
    "\n",
    "for i in vote:\n",
    "    votes.append(i.text)\n",
    "votes[0:10]"
   ]
  },
  {
   "cell_type": "code",
   "execution_count": 2,
   "id": "397d8983",
   "metadata": {},
   "outputs": [],
   "source": [
    "driver = webdriver.Chrome(r'C:\\Users\\PC\\Downloads\\chromedriver_win32 (1)\\chromedriver.exe')"
   ]
  },
  {
   "cell_type": "code",
   "execution_count": 4,
   "id": "c8428c3b",
   "metadata": {},
   "outputs": [],
   "source": [
    "driver.get(\"https://archive.ics.uci.edu/\")"
   ]
  },
  {
   "cell_type": "code",
   "execution_count": 7,
   "id": "9c012879",
   "metadata": {},
   "outputs": [
    {
     "data": {
      "text/plain": [
       "[<selenium.webdriver.remote.webelement.WebElement (session=\"0bc2309e5ca20f86c97a58044495e453\", element=\"944e9aba-3bd5-4a4e-a378-9016b44a25af\")>,\n",
       " <selenium.webdriver.remote.webelement.WebElement (session=\"0bc2309e5ca20f86c97a58044495e453\", element=\"1bb87ecd-84c7-408a-83b2-52ae00982d32\")>,\n",
       " <selenium.webdriver.remote.webelement.WebElement (session=\"0bc2309e5ca20f86c97a58044495e453\", element=\"f66a7ae9-ad96-4daf-98df-8d8e05f0b008\")>,\n",
       " <selenium.webdriver.remote.webelement.WebElement (session=\"0bc2309e5ca20f86c97a58044495e453\", element=\"a5b38ba3-7d67-407f-9e7b-bc26433d437f\")>,\n",
       " <selenium.webdriver.remote.webelement.WebElement (session=\"0bc2309e5ca20f86c97a58044495e453\", element=\"fe468dcc-6137-4afc-9d37-011a2569ae5e\")>,\n",
       " <selenium.webdriver.remote.webelement.WebElement (session=\"0bc2309e5ca20f86c97a58044495e453\", element=\"bd7e7a01-6db9-4e52-8b5b-dc428d0b713b\")>,\n",
       " <selenium.webdriver.remote.webelement.WebElement (session=\"0bc2309e5ca20f86c97a58044495e453\", element=\"8ea27919-2616-45f9-83cc-3a32f288d2cd\")>,\n",
       " <selenium.webdriver.remote.webelement.WebElement (session=\"0bc2309e5ca20f86c97a58044495e453\", element=\"baea13cd-01da-49f3-9d47-2db7be844d2a\")>,\n",
       " <selenium.webdriver.remote.webelement.WebElement (session=\"0bc2309e5ca20f86c97a58044495e453\", element=\"0531fc7d-879d-413c-a922-b56acf39558b\")>,\n",
       " <selenium.webdriver.remote.webelement.WebElement (session=\"0bc2309e5ca20f86c97a58044495e453\", element=\"3475cb45-0571-45f0-9fd3-5d12c247b409\")>]"
      ]
     },
     "execution_count": 7,
     "metadata": {},
     "output_type": "execute_result"
    }
   ],
   "source": [
    "dataset = driver.find_elements_by_xpath('//p[@class=\"normal\"]')\n",
    "len(dataset)\n",
    "dataset[0:10]"
   ]
  },
  {
   "cell_type": "code",
   "execution_count": 8,
   "id": "0cc05487",
   "metadata": {},
   "outputs": [
    {
     "data": {
      "text/plain": [
       "['Classification (466)\\nRegression (151)\\nClustering (121)\\nOther (56)',\n",
       " 'Categorical (38)\\nNumerical (422)\\nMixed (55)',\n",
       " 'Multivariate (480)\\nUnivariate (30)\\nSequential (59)\\nTime-Series (126)\\nText (69)\\nDomain-Theory (23)\\nOther (21)',\n",
       " 'Life Sciences (147)\\nPhysical Sciences (57)\\nCS / Engineering (234)\\nSocial Sciences (41)\\nBusiness (45)\\nGame (12)\\nOther (81)',\n",
       " 'Less than 10 (166)\\n10 to 100 (279)\\nGreater than 100 (110)',\n",
       " 'Less than 100 (38)\\n100 to 1000 (210)\\nGreater than 1000 (339)',\n",
       " 'Matrix (439)\\nNon-Matrix (183)',\n",
       " 'Table View  List View',\n",
       " 'Abalone',\n",
       " 'Multivariate ']"
      ]
     },
     "execution_count": 8,
     "metadata": {},
     "output_type": "execute_result"
    }
   ],
   "source": [
    "datasets= []\n",
    "\n",
    "for i in dataset:\n",
    "    datasets.append(i.text)\n",
    "datasets[0:10]"
   ]
  },
  {
   "cell_type": "code",
   "execution_count": null,
   "id": "00dfeeb8",
   "metadata": {},
   "outputs": [],
   "source": []
  }
 ],
 "metadata": {
  "kernelspec": {
   "display_name": "Python 3",
   "language": "python",
   "name": "python3"
  },
  "language_info": {
   "codemirror_mode": {
    "name": "ipython",
    "version": 3
   },
   "file_extension": ".py",
   "mimetype": "text/x-python",
   "name": "python",
   "nbconvert_exporter": "python",
   "pygments_lexer": "ipython3",
   "version": "3.8.8"
  }
 },
 "nbformat": 4,
 "nbformat_minor": 5
}
