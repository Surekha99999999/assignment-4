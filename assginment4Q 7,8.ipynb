{
 "cells": [
  {
   "cell_type": "code",
   "execution_count": 1,
   "id": "9d86f6d5",
   "metadata": {},
   "outputs": [],
   "source": [
    "import pandas as pd\n",
    "import numpy as np\n",
    "import selenium\n",
    "from selenium import webdriver\n",
    "from selenium.common.exceptions import NoSuchElementException\n",
    "import warnings\n",
    "warnings.filterwarnings('ignore')"
   ]
  },
  {
   "cell_type": "code",
   "execution_count": 2,
   "id": "04804a1b",
   "metadata": {},
   "outputs": [],
   "source": [
    "driver = webdriver.Chrome(r'C:\\Users\\PC\\Downloads\\chromedriver_win32 (1)\\chromedriver.exe')"
   ]
  },
  {
   "cell_type": "code",
   "execution_count": 4,
   "id": "2f743723",
   "metadata": {},
   "outputs": [],
   "source": [
    "driver.get(\"https://www.naukri.com/\")"
   ]
  },
  {
   "cell_type": "code",
   "execution_count": 6,
   "id": "43f38629",
   "metadata": {},
   "outputs": [
    {
     "data": {
      "text/plain": [
       "<selenium.webdriver.remote.webelement.WebElement (session=\"4e383e7e4090c6e93ceb5ebb8d1ff453\", element=\"24ee5aa4-9d89-441c-ab9e-32f2acc235eb\")>"
      ]
     },
     "execution_count": 6,
     "metadata": {},
     "output_type": "execute_result"
    }
   ],
   "source": [
    "search_job = driver.find_element_by_class_name(\"suggestor-input\")\n",
    "search_job"
   ]
  },
  {
   "cell_type": "code",
   "execution_count": 7,
   "id": "65ebd750",
   "metadata": {},
   "outputs": [],
   "source": [
    "search_job.send_keys(\"Data Scientist\")"
   ]
  },
  {
   "cell_type": "code",
   "execution_count": 9,
   "id": "147aeb0c",
   "metadata": {},
   "outputs": [
    {
     "data": {
      "text/plain": [
       "<selenium.webdriver.remote.webelement.WebElement (session=\"4e383e7e4090c6e93ceb5ebb8d1ff453\", element=\"90d112e0-067d-4f58-8a38-55829264db76\")>"
      ]
     },
     "execution_count": 9,
     "metadata": {},
     "output_type": "execute_result"
    }
   ],
   "source": [
    "search_btn = driver.find_element_by_xpath('/html/body/div/div[2]/div[3]/div/div/div[6]')\n",
    "search_btn"
   ]
  },
  {
   "cell_type": "code",
   "execution_count": 10,
   "id": "69ba322c",
   "metadata": {},
   "outputs": [],
   "source": [
    "search_btn.click()"
   ]
  },
  {
   "cell_type": "code",
   "execution_count": 11,
   "id": "99ba6304",
   "metadata": {},
   "outputs": [
    {
     "data": {
      "text/plain": [
       "[<selenium.webdriver.remote.webelement.WebElement (session=\"4e383e7e4090c6e93ceb5ebb8d1ff453\", element=\"9ee44b7b-66e7-408b-baca-db8018734e6f\")>,\n",
       " <selenium.webdriver.remote.webelement.WebElement (session=\"4e383e7e4090c6e93ceb5ebb8d1ff453\", element=\"f133c9cc-1ec3-4a0e-8a5b-e60a7538001e\")>,\n",
       " <selenium.webdriver.remote.webelement.WebElement (session=\"4e383e7e4090c6e93ceb5ebb8d1ff453\", element=\"f10a6608-46b9-45cc-af0e-1a1d9e1275c6\")>,\n",
       " <selenium.webdriver.remote.webelement.WebElement (session=\"4e383e7e4090c6e93ceb5ebb8d1ff453\", element=\"18255914-eda2-4fbd-8433-96e382899707\")>,\n",
       " <selenium.webdriver.remote.webelement.WebElement (session=\"4e383e7e4090c6e93ceb5ebb8d1ff453\", element=\"6d8bf534-7172-4f2e-b5ed-5c926e68f68e\")>]"
      ]
     },
     "execution_count": 11,
     "metadata": {},
     "output_type": "execute_result"
    }
   ],
   "source": [
    "title_tags = driver.find_elements_by_xpath('//a[@class=\"title fw500 ellipsis\"]')\n",
    "len(title_tags)\n",
    "title_tags[0:5]"
   ]
  },
  {
   "cell_type": "code",
   "execution_count": 12,
   "id": "581f18c1",
   "metadata": {},
   "outputs": [
    {
     "data": {
      "text/plain": [
       "['Data Scientist - Lead / Architect - Looking For Early Joiners - Wipro',\n",
       " 'Urgent Requirement || Data Scientist || Noida',\n",
       " 'Global Tax Automation & Operations - Data Scientist Senior Analyst',\n",
       " 'Data Analyst / Data Scientist / Business Analytics / Fresher - MNC',\n",
       " 'Technical Architect/ Data Scientist']"
      ]
     },
     "execution_count": 12,
     "metadata": {},
     "output_type": "execute_result"
    }
   ],
   "source": [
    "job_titles = []\n",
    "\n",
    "for i in title_tags:\n",
    "    job_titles.append(i.text)\n",
    "job_titles[0:5] "
   ]
  },
  {
   "cell_type": "code",
   "execution_count": 13,
   "id": "504a361f",
   "metadata": {},
   "outputs": [
    {
     "data": {
      "text/plain": [
       "[<selenium.webdriver.remote.webelement.WebElement (session=\"4e383e7e4090c6e93ceb5ebb8d1ff453\", element=\"38b756cd-a28a-4821-8a2e-efdbbf53844d\")>,\n",
       " <selenium.webdriver.remote.webelement.WebElement (session=\"4e383e7e4090c6e93ceb5ebb8d1ff453\", element=\"6694fd7e-23fb-40b0-9479-fb0f83799c3e\")>,\n",
       " <selenium.webdriver.remote.webelement.WebElement (session=\"4e383e7e4090c6e93ceb5ebb8d1ff453\", element=\"affd09b4-f724-4620-ae17-8ca63036c1cb\")>,\n",
       " <selenium.webdriver.remote.webelement.WebElement (session=\"4e383e7e4090c6e93ceb5ebb8d1ff453\", element=\"a3e2df0d-c67e-4d97-9eac-4637b4b8d4bd\")>,\n",
       " <selenium.webdriver.remote.webelement.WebElement (session=\"4e383e7e4090c6e93ceb5ebb8d1ff453\", element=\"4e3f0f3b-112f-4da7-abd3-8fe7775495df\")>]"
      ]
     },
     "execution_count": 13,
     "metadata": {},
     "output_type": "execute_result"
    }
   ],
   "source": [
    "comp_name = driver.find_elements_by_xpath('//a[@class=\"subTitle ellipsis fleft\"]')\n",
    "len(comp_name)\n",
    "comp_name[0:5]"
   ]
  },
  {
   "cell_type": "code",
   "execution_count": 14,
   "id": "3903825b",
   "metadata": {},
   "outputs": [
    {
     "data": {
      "text/plain": [
       "['Wipro',\n",
       " 'HCL',\n",
       " 'Dell',\n",
       " 'GABA Consultancy services',\n",
       " 'DMI Innovations Pvt. Ltd']"
      ]
     },
     "execution_count": 14,
     "metadata": {},
     "output_type": "execute_result"
    }
   ],
   "source": [
    "comp_names = []\n",
    "\n",
    "for i in comp_name:\n",
    "    comp_names.append(i.text)\n",
    "comp_names[0:5] "
   ]
  },
  {
   "cell_type": "code",
   "execution_count": 15,
   "id": "a7841221",
   "metadata": {},
   "outputs": [
    {
     "data": {
      "text/plain": [
       "[<selenium.webdriver.remote.webelement.WebElement (session=\"4e383e7e4090c6e93ceb5ebb8d1ff453\", element=\"a74e9b67-a20b-40e1-83aa-761345463262\")>,\n",
       " <selenium.webdriver.remote.webelement.WebElement (session=\"4e383e7e4090c6e93ceb5ebb8d1ff453\", element=\"2f77fb37-e760-4c08-924f-a49288db7ab5\")>,\n",
       " <selenium.webdriver.remote.webelement.WebElement (session=\"4e383e7e4090c6e93ceb5ebb8d1ff453\", element=\"afc75988-bc88-48e1-a83f-62ff373856a1\")>,\n",
       " <selenium.webdriver.remote.webelement.WebElement (session=\"4e383e7e4090c6e93ceb5ebb8d1ff453\", element=\"39e29651-a8c2-49ea-beb7-e6470d389ac6\")>,\n",
       " <selenium.webdriver.remote.webelement.WebElement (session=\"4e383e7e4090c6e93ceb5ebb8d1ff453\", element=\"0798a519-62af-43ef-ad75-90fe63959bcb\")>]"
      ]
     },
     "execution_count": 15,
     "metadata": {},
     "output_type": "execute_result"
    }
   ],
   "source": [
    "location = driver.find_elements_by_xpath('//li[@class=\"fleft grey-text br2 placeHolderLi location\"]/span')\n",
    "len(location)\n",
    "location[0:5]"
   ]
  },
  {
   "cell_type": "code",
   "execution_count": 16,
   "id": "ac83c18d",
   "metadata": {},
   "outputs": [
    {
     "data": {
      "text/plain": [
       "['Kochi/Cochin, Kolkata, Pune, Gurgaon/Gurugram, Chennai, Coimbatore, Bangalore/Bengaluru, Mumbai (All Areas), Hyderabad',\n",
       " 'Noida, Delhi / NCR',\n",
       " 'Bangalore/Bengaluru',\n",
       " 'Noida, New Delhi, Delhi / NCR',\n",
       " 'Noida, Pune, Chennai, Bangalore/Bengaluru']"
      ]
     },
     "execution_count": 16,
     "metadata": {},
     "output_type": "execute_result"
    }
   ],
   "source": [
    "locations =[]\n",
    "\n",
    "for i in location:\n",
    "    locations.append(i.text)\n",
    "locations[0:5] "
   ]
  },
  {
   "cell_type": "code",
   "execution_count": 17,
   "id": "7040ed56",
   "metadata": {},
   "outputs": [
    {
     "data": {
      "text/plain": [
       "[<selenium.webdriver.remote.webelement.WebElement (session=\"4e383e7e4090c6e93ceb5ebb8d1ff453\", element=\"67496b94-841b-4478-8adc-276ad8be4f8a\")>,\n",
       " <selenium.webdriver.remote.webelement.WebElement (session=\"4e383e7e4090c6e93ceb5ebb8d1ff453\", element=\"c3f0b34e-823c-41ec-8f3b-b9d38ba3c2b8\")>,\n",
       " <selenium.webdriver.remote.webelement.WebElement (session=\"4e383e7e4090c6e93ceb5ebb8d1ff453\", element=\"abb494e1-1954-47c8-915c-8ffa9c9fc516\")>,\n",
       " <selenium.webdriver.remote.webelement.WebElement (session=\"4e383e7e4090c6e93ceb5ebb8d1ff453\", element=\"382aff01-16b5-40ad-afb1-65ab6c9e3f82\")>,\n",
       " <selenium.webdriver.remote.webelement.WebElement (session=\"4e383e7e4090c6e93ceb5ebb8d1ff453\", element=\"ca63cc61-b40f-43f5-8e6f-1af1c8a65efe\")>]"
      ]
     },
     "execution_count": 17,
     "metadata": {},
     "output_type": "execute_result"
    }
   ],
   "source": [
    "experience = driver.find_elements_by_xpath('//li[@class=\"fleft grey-text br2 placeHolderLi experience\"]')\n",
    "len(experience)\n",
    "experience[0:5]"
   ]
  },
  {
   "cell_type": "code",
   "execution_count": 18,
   "id": "7c92238a",
   "metadata": {},
   "outputs": [
    {
     "data": {
      "text/plain": [
       "['5-10 Yrs', '3-8 Yrs', '3-5 Yrs', '0-0 Yrs', '8-13 Yrs']"
      ]
     },
     "execution_count": 18,
     "metadata": {},
     "output_type": "execute_result"
    }
   ],
   "source": [
    "experiences =[]\n",
    "\n",
    "for i in experience:\n",
    "    experiences.append(i.text)\n",
    "experiences[0:5] "
   ]
  },
  {
   "cell_type": "code",
   "execution_count": 19,
   "id": "e85f19b2",
   "metadata": {},
   "outputs": [],
   "source": [
    "driver = webdriver.Chrome(r'C:\\Users\\PC\\Downloads\\chromedriver_win32 (1)\\chromedriver.exe')"
   ]
  },
  {
   "cell_type": "code",
   "execution_count": 21,
   "id": "610464b0",
   "metadata": {},
   "outputs": [],
   "source": [
    "driver.get(\"https://www.theguardian.com/news/datablog/2012/aug/09/best-selling-books-all-time-fifty-shades-grey-compare/\")"
   ]
  },
  {
   "cell_type": "code",
   "execution_count": 24,
   "id": "b491b141",
   "metadata": {},
   "outputs": [
    {
     "data": {
      "text/plain": [
       "[<selenium.webdriver.remote.webelement.WebElement (session=\"f153ac435a7fd17201cf35c176016e64\", element=\"b256924b-63e5-4ef1-a646-2cb4da8f3c8e\")>,\n",
       " <selenium.webdriver.remote.webelement.WebElement (session=\"f153ac435a7fd17201cf35c176016e64\", element=\"b3ab9b8d-b2b7-4a1e-a939-c844afe923ce\")>,\n",
       " <selenium.webdriver.remote.webelement.WebElement (session=\"f153ac435a7fd17201cf35c176016e64\", element=\"a31eff32-300a-48e1-9bae-d8d4d6d66d7b\")>,\n",
       " <selenium.webdriver.remote.webelement.WebElement (session=\"f153ac435a7fd17201cf35c176016e64\", element=\"b49a4217-f62e-4214-9d87-cac8db34e616\")>,\n",
       " <selenium.webdriver.remote.webelement.WebElement (session=\"f153ac435a7fd17201cf35c176016e64\", element=\"a6469f92-5bf7-4cca-b5ae-f8915462b862\")>,\n",
       " <selenium.webdriver.remote.webelement.WebElement (session=\"f153ac435a7fd17201cf35c176016e64\", element=\"ab0ebad3-847d-48fd-8717-6ff6ede5cfd6\")>,\n",
       " <selenium.webdriver.remote.webelement.WebElement (session=\"f153ac435a7fd17201cf35c176016e64\", element=\"38fa2f4b-2e36-415e-9ca0-6c49505e7282\")>,\n",
       " <selenium.webdriver.remote.webelement.WebElement (session=\"f153ac435a7fd17201cf35c176016e64\", element=\"b5ced216-4faa-4eaf-b5da-89f71f1ddcbc\")>,\n",
       " <selenium.webdriver.remote.webelement.WebElement (session=\"f153ac435a7fd17201cf35c176016e64\", element=\"a76bc643-f3bf-49b3-a748-0fe17b510e7c\")>,\n",
       " <selenium.webdriver.remote.webelement.WebElement (session=\"f153ac435a7fd17201cf35c176016e64\", element=\"84122d48-b78b-4378-a34e-eddd1563295b\")>,\n",
       " <selenium.webdriver.remote.webelement.WebElement (session=\"f153ac435a7fd17201cf35c176016e64\", element=\"22c0733a-5baf-4d7e-854a-dc2245a0915b\")>,\n",
       " <selenium.webdriver.remote.webelement.WebElement (session=\"f153ac435a7fd17201cf35c176016e64\", element=\"7975625a-74f6-4496-84bf-c6e0b9f489a6\")>,\n",
       " <selenium.webdriver.remote.webelement.WebElement (session=\"f153ac435a7fd17201cf35c176016e64\", element=\"ed704f25-42fe-4ebc-a390-ee6240102913\")>,\n",
       " <selenium.webdriver.remote.webelement.WebElement (session=\"f153ac435a7fd17201cf35c176016e64\", element=\"2d6c0a85-dfde-4cbb-b631-3988c9115617\")>,\n",
       " <selenium.webdriver.remote.webelement.WebElement (session=\"f153ac435a7fd17201cf35c176016e64\", element=\"94fb3d71-0bc2-4466-8284-dc2428bced91\")>,\n",
       " <selenium.webdriver.remote.webelement.WebElement (session=\"f153ac435a7fd17201cf35c176016e64\", element=\"078872f8-15a0-4226-94ef-70db97eb6be7\")>,\n",
       " <selenium.webdriver.remote.webelement.WebElement (session=\"f153ac435a7fd17201cf35c176016e64\", element=\"c256308d-1ad3-418f-a0a6-eba435664543\")>,\n",
       " <selenium.webdriver.remote.webelement.WebElement (session=\"f153ac435a7fd17201cf35c176016e64\", element=\"eafbd813-c101-4636-903e-c732a12f1013\")>,\n",
       " <selenium.webdriver.remote.webelement.WebElement (session=\"f153ac435a7fd17201cf35c176016e64\", element=\"62662b11-2c2f-473c-a3ad-52aab4b526af\")>,\n",
       " <selenium.webdriver.remote.webelement.WebElement (session=\"f153ac435a7fd17201cf35c176016e64\", element=\"ba738995-b776-4bc3-90d7-6492724cd677\")>,\n",
       " <selenium.webdriver.remote.webelement.WebElement (session=\"f153ac435a7fd17201cf35c176016e64\", element=\"15749eaf-a8a6-45a2-8e22-b60ccb2ae3d4\")>,\n",
       " <selenium.webdriver.remote.webelement.WebElement (session=\"f153ac435a7fd17201cf35c176016e64\", element=\"4048e192-452b-468d-a8d9-35b589549a49\")>,\n",
       " <selenium.webdriver.remote.webelement.WebElement (session=\"f153ac435a7fd17201cf35c176016e64\", element=\"5c3c537b-e72b-4b92-864c-391913ae6eac\")>,\n",
       " <selenium.webdriver.remote.webelement.WebElement (session=\"f153ac435a7fd17201cf35c176016e64\", element=\"85eab345-0217-4b3f-84fb-7b7ca316d6dd\")>,\n",
       " <selenium.webdriver.remote.webelement.WebElement (session=\"f153ac435a7fd17201cf35c176016e64\", element=\"dffaef76-2871-4fc2-8adf-0c2e0a9f6413\")>,\n",
       " <selenium.webdriver.remote.webelement.WebElement (session=\"f153ac435a7fd17201cf35c176016e64\", element=\"a1935d47-d6fb-44c2-94d5-7ea3bc7afb14\")>,\n",
       " <selenium.webdriver.remote.webelement.WebElement (session=\"f153ac435a7fd17201cf35c176016e64\", element=\"585acecc-f886-4e5c-831d-fa06ad58561d\")>,\n",
       " <selenium.webdriver.remote.webelement.WebElement (session=\"f153ac435a7fd17201cf35c176016e64\", element=\"1a609927-e32a-4eca-8519-be67ed4ff7fb\")>,\n",
       " <selenium.webdriver.remote.webelement.WebElement (session=\"f153ac435a7fd17201cf35c176016e64\", element=\"21b2ffc9-9f6f-4152-83af-fb88aaefd8db\")>,\n",
       " <selenium.webdriver.remote.webelement.WebElement (session=\"f153ac435a7fd17201cf35c176016e64\", element=\"2a5c4e10-f5cf-428b-80e3-f2cf841754b8\")>,\n",
       " <selenium.webdriver.remote.webelement.WebElement (session=\"f153ac435a7fd17201cf35c176016e64\", element=\"8124086c-c522-40f3-bdb4-9f5474d874b8\")>,\n",
       " <selenium.webdriver.remote.webelement.WebElement (session=\"f153ac435a7fd17201cf35c176016e64\", element=\"ace79333-a3a6-40f3-bf54-d559dbfe9fc7\")>,\n",
       " <selenium.webdriver.remote.webelement.WebElement (session=\"f153ac435a7fd17201cf35c176016e64\", element=\"06934a65-278f-47a7-9e1b-b8ab27d74d41\")>,\n",
       " <selenium.webdriver.remote.webelement.WebElement (session=\"f153ac435a7fd17201cf35c176016e64\", element=\"a5a29324-d923-4462-a687-d76b79e987db\")>,\n",
       " <selenium.webdriver.remote.webelement.WebElement (session=\"f153ac435a7fd17201cf35c176016e64\", element=\"ed8b1744-f88d-415b-b8ef-e1634c03c6b7\")>,\n",
       " <selenium.webdriver.remote.webelement.WebElement (session=\"f153ac435a7fd17201cf35c176016e64\", element=\"64b68b9f-b4a7-45c4-a610-a19d7b883d05\")>,\n",
       " <selenium.webdriver.remote.webelement.WebElement (session=\"f153ac435a7fd17201cf35c176016e64\", element=\"ce3f0795-0997-4197-8f3e-d5f576d52ac6\")>,\n",
       " <selenium.webdriver.remote.webelement.WebElement (session=\"f153ac435a7fd17201cf35c176016e64\", element=\"6a458dfd-792a-4771-a597-37d0a30cf920\")>,\n",
       " <selenium.webdriver.remote.webelement.WebElement (session=\"f153ac435a7fd17201cf35c176016e64\", element=\"a5c3dc0b-08ac-4814-9b3d-fe62f7a15ac2\")>,\n",
       " <selenium.webdriver.remote.webelement.WebElement (session=\"f153ac435a7fd17201cf35c176016e64\", element=\"38ea1543-dfb7-4034-a1d7-4daa30ac98c5\")>,\n",
       " <selenium.webdriver.remote.webelement.WebElement (session=\"f153ac435a7fd17201cf35c176016e64\", element=\"a1cdbdd8-a275-4cf8-a19f-8158df4ff51c\")>,\n",
       " <selenium.webdriver.remote.webelement.WebElement (session=\"f153ac435a7fd17201cf35c176016e64\", element=\"2b33b538-dd15-455b-88f5-a8f08823b325\")>,\n",
       " <selenium.webdriver.remote.webelement.WebElement (session=\"f153ac435a7fd17201cf35c176016e64\", element=\"f5d966be-0469-4454-93c6-1cb259c5db04\")>,\n",
       " <selenium.webdriver.remote.webelement.WebElement (session=\"f153ac435a7fd17201cf35c176016e64\", element=\"3f70aba2-76bd-46fb-b271-16d283fb612d\")>,\n",
       " <selenium.webdriver.remote.webelement.WebElement (session=\"f153ac435a7fd17201cf35c176016e64\", element=\"ded7fe80-7c71-451a-a7a0-343ea9446e89\")>,\n",
       " <selenium.webdriver.remote.webelement.WebElement (session=\"f153ac435a7fd17201cf35c176016e64\", element=\"e18546b7-1c7e-467a-8ce2-a7db5a2b9f76\")>,\n",
       " <selenium.webdriver.remote.webelement.WebElement (session=\"f153ac435a7fd17201cf35c176016e64\", element=\"d364cbf2-19a2-45a6-a9e9-3dd8503ed678\")>,\n",
       " <selenium.webdriver.remote.webelement.WebElement (session=\"f153ac435a7fd17201cf35c176016e64\", element=\"5a3b332f-7c2d-42fa-bc03-fcc095cb93ea\")>,\n",
       " <selenium.webdriver.remote.webelement.WebElement (session=\"f153ac435a7fd17201cf35c176016e64\", element=\"ef2f85ff-0acc-47c7-945d-d4646293ea79\")>,\n",
       " <selenium.webdriver.remote.webelement.WebElement (session=\"f153ac435a7fd17201cf35c176016e64\", element=\"9d885348-374d-43f5-b451-91eaf5db90f6\")>,\n",
       " <selenium.webdriver.remote.webelement.WebElement (session=\"f153ac435a7fd17201cf35c176016e64\", element=\"4b6444c2-cabb-4c6f-8721-f8a0f16e827c\")>,\n",
       " <selenium.webdriver.remote.webelement.WebElement (session=\"f153ac435a7fd17201cf35c176016e64\", element=\"35ad2d9d-2ac6-4899-8e90-28352001f126\")>,\n",
       " <selenium.webdriver.remote.webelement.WebElement (session=\"f153ac435a7fd17201cf35c176016e64\", element=\"a7483259-2fdd-4a85-93af-a2b72e5d2c0c\")>,\n",
       " <selenium.webdriver.remote.webelement.WebElement (session=\"f153ac435a7fd17201cf35c176016e64\", element=\"3ced62dd-9d18-4c9c-99e9-95b486610fe2\")>,\n",
       " <selenium.webdriver.remote.webelement.WebElement (session=\"f153ac435a7fd17201cf35c176016e64\", element=\"3b32d4ce-d2fe-4dd1-a728-fdfff8bce0dd\")>,\n",
       " <selenium.webdriver.remote.webelement.WebElement (session=\"f153ac435a7fd17201cf35c176016e64\", element=\"62ac88a2-405e-4920-b08c-ae901649f7bf\")>,\n",
       " <selenium.webdriver.remote.webelement.WebElement (session=\"f153ac435a7fd17201cf35c176016e64\", element=\"8d12a332-e2ed-4593-b63c-40d0a8f14240\")>,\n",
       " <selenium.webdriver.remote.webelement.WebElement (session=\"f153ac435a7fd17201cf35c176016e64\", element=\"6f543dd8-b22f-428b-9719-27a8731cd58d\")>,\n",
       " <selenium.webdriver.remote.webelement.WebElement (session=\"f153ac435a7fd17201cf35c176016e64\", element=\"f2765f57-a68f-45db-be36-e65c3c779054\")>,\n",
       " <selenium.webdriver.remote.webelement.WebElement (session=\"f153ac435a7fd17201cf35c176016e64\", element=\"87a50b18-8b4b-4171-997e-177007109586\")>,\n",
       " <selenium.webdriver.remote.webelement.WebElement (session=\"f153ac435a7fd17201cf35c176016e64\", element=\"0b17b5a5-b5f8-4932-9fe7-e314a4191517\")>,\n",
       " <selenium.webdriver.remote.webelement.WebElement (session=\"f153ac435a7fd17201cf35c176016e64\", element=\"0eaaf7a8-580f-494b-809f-a97bbc6de683\")>,\n",
       " <selenium.webdriver.remote.webelement.WebElement (session=\"f153ac435a7fd17201cf35c176016e64\", element=\"28f79b96-7053-4831-b0b4-dee07a78bbf3\")>,\n",
       " <selenium.webdriver.remote.webelement.WebElement (session=\"f153ac435a7fd17201cf35c176016e64\", element=\"d4d34727-7b57-4dc5-8fe9-c42e859dec49\")>,\n",
       " <selenium.webdriver.remote.webelement.WebElement (session=\"f153ac435a7fd17201cf35c176016e64\", element=\"3de76e49-b534-401e-bd81-80c02afdbc22\")>,\n",
       " <selenium.webdriver.remote.webelement.WebElement (session=\"f153ac435a7fd17201cf35c176016e64\", element=\"0e99cd60-6446-4089-9f87-38649a489eee\")>,\n",
       " <selenium.webdriver.remote.webelement.WebElement (session=\"f153ac435a7fd17201cf35c176016e64\", element=\"9cfe39e4-9886-41d6-95fe-20fa64226c49\")>,\n",
       " <selenium.webdriver.remote.webelement.WebElement (session=\"f153ac435a7fd17201cf35c176016e64\", element=\"59044fb1-9c1e-46d0-9ef4-bb8b343d7dda\")>,\n",
       " <selenium.webdriver.remote.webelement.WebElement (session=\"f153ac435a7fd17201cf35c176016e64\", element=\"56a59a12-54d6-4b29-aadd-473727023c6b\")>,\n",
       " <selenium.webdriver.remote.webelement.WebElement (session=\"f153ac435a7fd17201cf35c176016e64\", element=\"2fc73a36-ea1a-430b-8205-48031c2de731\")>,\n",
       " <selenium.webdriver.remote.webelement.WebElement (session=\"f153ac435a7fd17201cf35c176016e64\", element=\"f3125661-8af0-40af-b94b-7145052447fd\")>,\n",
       " <selenium.webdriver.remote.webelement.WebElement (session=\"f153ac435a7fd17201cf35c176016e64\", element=\"4512e99a-feaa-48d8-9cb2-67c804d9a40b\")>,\n",
       " <selenium.webdriver.remote.webelement.WebElement (session=\"f153ac435a7fd17201cf35c176016e64\", element=\"12c6c9db-a595-49c8-ae3c-ba5eaef72025\")>,\n",
       " <selenium.webdriver.remote.webelement.WebElement (session=\"f153ac435a7fd17201cf35c176016e64\", element=\"4d96e6b8-1b83-4b9c-a260-0a44c876878f\")>,\n",
       " <selenium.webdriver.remote.webelement.WebElement (session=\"f153ac435a7fd17201cf35c176016e64\", element=\"ff3dc53a-eadb-42c0-a6ca-4a84b42a1407\")>,\n",
       " <selenium.webdriver.remote.webelement.WebElement (session=\"f153ac435a7fd17201cf35c176016e64\", element=\"e4a7b7f0-12e8-4c72-baff-94812c351561\")>,\n",
       " <selenium.webdriver.remote.webelement.WebElement (session=\"f153ac435a7fd17201cf35c176016e64\", element=\"69931cb2-678b-49b1-a285-b0b40617aaff\")>,\n",
       " <selenium.webdriver.remote.webelement.WebElement (session=\"f153ac435a7fd17201cf35c176016e64\", element=\"3549a198-4c40-4932-ac08-4c3b232115bd\")>,\n",
       " <selenium.webdriver.remote.webelement.WebElement (session=\"f153ac435a7fd17201cf35c176016e64\", element=\"aa718032-11dc-4d42-b9d3-d4f631e01e5a\")>,\n",
       " <selenium.webdriver.remote.webelement.WebElement (session=\"f153ac435a7fd17201cf35c176016e64\", element=\"fd697a50-c587-4a49-9109-1a3849b940e9\")>,\n",
       " <selenium.webdriver.remote.webelement.WebElement (session=\"f153ac435a7fd17201cf35c176016e64\", element=\"ce6675d6-e65b-4416-a02c-e09177bd645a\")>,\n",
       " <selenium.webdriver.remote.webelement.WebElement (session=\"f153ac435a7fd17201cf35c176016e64\", element=\"86e7f0aa-54f5-46d1-b4b7-48e90c401dc5\")>,\n",
       " <selenium.webdriver.remote.webelement.WebElement (session=\"f153ac435a7fd17201cf35c176016e64\", element=\"f62f4377-e2c2-4c34-a438-3f9b79987812\")>,\n",
       " <selenium.webdriver.remote.webelement.WebElement (session=\"f153ac435a7fd17201cf35c176016e64\", element=\"46035991-0fbd-4700-b540-237ccdf3ec35\")>,\n",
       " <selenium.webdriver.remote.webelement.WebElement (session=\"f153ac435a7fd17201cf35c176016e64\", element=\"0af7ace3-14aa-4d4a-9d60-441d015a2eca\")>,\n",
       " <selenium.webdriver.remote.webelement.WebElement (session=\"f153ac435a7fd17201cf35c176016e64\", element=\"c878fbcd-b5f5-46ba-a92e-36ee80e1b7cd\")>,\n",
       " <selenium.webdriver.remote.webelement.WebElement (session=\"f153ac435a7fd17201cf35c176016e64\", element=\"df723f0e-965f-472f-9061-da493558f71f\")>,\n",
       " <selenium.webdriver.remote.webelement.WebElement (session=\"f153ac435a7fd17201cf35c176016e64\", element=\"3b0007ef-385d-426d-a03d-682c129e0c6e\")>,\n",
       " <selenium.webdriver.remote.webelement.WebElement (session=\"f153ac435a7fd17201cf35c176016e64\", element=\"5ff0729a-4cab-447b-a307-e1ac5b7ef715\")>,\n",
       " <selenium.webdriver.remote.webelement.WebElement (session=\"f153ac435a7fd17201cf35c176016e64\", element=\"87945416-9888-4dad-9cdd-78d07c5cbe21\")>,\n",
       " <selenium.webdriver.remote.webelement.WebElement (session=\"f153ac435a7fd17201cf35c176016e64\", element=\"68e55659-5f57-4fec-9a3b-2320d3c53ade\")>,\n",
       " <selenium.webdriver.remote.webelement.WebElement (session=\"f153ac435a7fd17201cf35c176016e64\", element=\"69bdd74d-03df-433c-ad39-128c7cd4d531\")>,\n",
       " <selenium.webdriver.remote.webelement.WebElement (session=\"f153ac435a7fd17201cf35c176016e64\", element=\"a3d43bef-e7a5-4385-9a8d-ff0d361d8694\")>,\n",
       " <selenium.webdriver.remote.webelement.WebElement (session=\"f153ac435a7fd17201cf35c176016e64\", element=\"dad7d0a0-3319-45ac-95ce-d7a8b79bf54b\")>,\n",
       " <selenium.webdriver.remote.webelement.WebElement (session=\"f153ac435a7fd17201cf35c176016e64\", element=\"f1837098-60ac-4022-9b08-3173e70075c2\")>,\n",
       " <selenium.webdriver.remote.webelement.WebElement (session=\"f153ac435a7fd17201cf35c176016e64\", element=\"1a45df7f-5e26-47a9-810e-94a96a73a452\")>,\n",
       " <selenium.webdriver.remote.webelement.WebElement (session=\"f153ac435a7fd17201cf35c176016e64\", element=\"cbc8f257-a0ed-443b-822f-2becdb235212\")>,\n",
       " <selenium.webdriver.remote.webelement.WebElement (session=\"f153ac435a7fd17201cf35c176016e64\", element=\"a1e73de7-bdb7-42c0-96e0-c3fc0bff417a\")>,\n",
       " <selenium.webdriver.remote.webelement.WebElement (session=\"f153ac435a7fd17201cf35c176016e64\", element=\"4c6cf9d5-add5-4921-9891-9339dc9f262b\")>,\n",
       " <selenium.webdriver.remote.webelement.WebElement (session=\"f153ac435a7fd17201cf35c176016e64\", element=\"3d765432-9789-4db3-bae4-65d35c14afdd\")>]"
      ]
     },
     "execution_count": 24,
     "metadata": {},
     "output_type": "execute_result"
    }
   ],
   "source": [
    "book_name = driver.find_elements_by_xpath('//td[@class=\"left\"]')\n",
    "len(book_name)\n",
    "book_name[0:100]"
   ]
  },
  {
   "cell_type": "code",
   "execution_count": 25,
   "id": "11d7797b",
   "metadata": {},
   "outputs": [
    {
     "data": {
      "text/plain": [
       "['1',\n",
       " 'Da Vinci Code,The',\n",
       " 'Brown, Dan',\n",
       " '5,094,805',\n",
       " 'Transworld',\n",
       " '2',\n",
       " 'Harry Potter and the Deathly Hallows',\n",
       " 'Rowling, J.K.',\n",
       " '4,475,152',\n",
       " 'Bloomsbury',\n",
       " '3',\n",
       " \"Harry Potter and the Philosopher's Stone\",\n",
       " 'Rowling, J.K.',\n",
       " '4,200,654',\n",
       " 'Bloomsbury',\n",
       " '4',\n",
       " 'Harry Potter and the Order of the Phoenix',\n",
       " 'Rowling, J.K.',\n",
       " '4,179,479',\n",
       " 'Bloomsbury',\n",
       " '5',\n",
       " 'Fifty Shades of Grey',\n",
       " 'James, E. L.',\n",
       " '3,758,936',\n",
       " 'Random House',\n",
       " '6',\n",
       " 'Harry Potter and the Goblet of Fire',\n",
       " 'Rowling, J.K.',\n",
       " '3,583,215',\n",
       " 'Bloomsbury',\n",
       " '7',\n",
       " 'Harry Potter and the Chamber of Secrets',\n",
       " 'Rowling, J.K.',\n",
       " '3,484,047',\n",
       " 'Bloomsbury',\n",
       " '8',\n",
       " 'Harry Potter and the Prisoner of Azkaban',\n",
       " 'Rowling, J.K.',\n",
       " '3,377,906',\n",
       " 'Bloomsbury',\n",
       " '9',\n",
       " 'Angels and Demons',\n",
       " 'Brown, Dan',\n",
       " '3,193,946',\n",
       " 'Transworld',\n",
       " '10',\n",
       " \"Harry Potter and the Half-blood Prince:Children's Edition\",\n",
       " 'Rowling, J.K.',\n",
       " '2,950,264',\n",
       " 'Bloomsbury',\n",
       " '11',\n",
       " 'Fifty Shades Darker',\n",
       " 'James, E. L.',\n",
       " '2,479,784',\n",
       " 'Random House',\n",
       " '12',\n",
       " 'Twilight',\n",
       " 'Meyer, Stephenie',\n",
       " '2,315,405',\n",
       " 'Little, Brown Book',\n",
       " '13',\n",
       " 'Girl with the Dragon Tattoo,The:Millennium Trilogy',\n",
       " 'Larsson, Stieg',\n",
       " '2,233,570',\n",
       " 'Quercus',\n",
       " '14',\n",
       " 'Fifty Shades Freed',\n",
       " 'James, E. L.',\n",
       " '2,193,928',\n",
       " 'Random House',\n",
       " '15',\n",
       " 'Lost Symbol,The',\n",
       " 'Brown, Dan',\n",
       " '2,183,031',\n",
       " 'Transworld',\n",
       " '16',\n",
       " 'New Moon',\n",
       " 'Meyer, Stephenie',\n",
       " '2,152,737',\n",
       " 'Little, Brown Book',\n",
       " '17',\n",
       " 'Deception Point',\n",
       " 'Brown, Dan',\n",
       " '2,062,145',\n",
       " 'Transworld',\n",
       " '18',\n",
       " 'Eclipse',\n",
       " 'Meyer, Stephenie',\n",
       " '2,052,876',\n",
       " 'Little, Brown Book',\n",
       " '19',\n",
       " 'Lovely Bones,The',\n",
       " 'Sebold, Alice',\n",
       " '2,005,598',\n",
       " 'Pan Macmillan',\n",
       " '20',\n",
       " 'Curious Incident of the Dog in the Night-time,The',\n",
       " 'Haddon, Mark',\n",
       " '1,979,552',\n",
       " 'Random House']"
      ]
     },
     "execution_count": 25,
     "metadata": {},
     "output_type": "execute_result"
    }
   ],
   "source": [
    "book_names = []\n",
    "\n",
    "for i in book_name:\n",
    "    book_names.append(i.text)\n",
    "book_names[0:100] "
   ]
  },
  {
   "cell_type": "code",
   "execution_count": 26,
   "id": "c23bf096",
   "metadata": {},
   "outputs": [
    {
     "data": {
      "text/plain": [
       "[<selenium.webdriver.remote.webelement.WebElement (session=\"f153ac435a7fd17201cf35c176016e64\", element=\"084fb70d-e7c0-4e4c-9020-121ac570502a\")>,\n",
       " <selenium.webdriver.remote.webelement.WebElement (session=\"f153ac435a7fd17201cf35c176016e64\", element=\"ef09d307-b27f-4e86-9ea2-bf73ce7ca477\")>,\n",
       " <selenium.webdriver.remote.webelement.WebElement (session=\"f153ac435a7fd17201cf35c176016e64\", element=\"f2a58401-33e5-40dd-8e10-49036041be12\")>,\n",
       " <selenium.webdriver.remote.webelement.WebElement (session=\"f153ac435a7fd17201cf35c176016e64\", element=\"93f03b6c-7500-4ba6-801f-8a44ce3abdc3\")>,\n",
       " <selenium.webdriver.remote.webelement.WebElement (session=\"f153ac435a7fd17201cf35c176016e64\", element=\"c994e609-710e-4def-b739-39a0460496b6\")>,\n",
       " <selenium.webdriver.remote.webelement.WebElement (session=\"f153ac435a7fd17201cf35c176016e64\", element=\"78aa7e62-ac03-4452-ad25-a65ed1e22602\")>,\n",
       " <selenium.webdriver.remote.webelement.WebElement (session=\"f153ac435a7fd17201cf35c176016e64\", element=\"18261b30-97b4-4171-8a54-e05419547295\")>,\n",
       " <selenium.webdriver.remote.webelement.WebElement (session=\"f153ac435a7fd17201cf35c176016e64\", element=\"5772e631-6d53-4892-a3ca-ed3bca29fbcb\")>,\n",
       " <selenium.webdriver.remote.webelement.WebElement (session=\"f153ac435a7fd17201cf35c176016e64\", element=\"4ed9af1c-063e-440b-aa25-0b4084c05dd2\")>,\n",
       " <selenium.webdriver.remote.webelement.WebElement (session=\"f153ac435a7fd17201cf35c176016e64\", element=\"ea933205-4bc3-47f7-90f4-72b3731740d4\")>,\n",
       " <selenium.webdriver.remote.webelement.WebElement (session=\"f153ac435a7fd17201cf35c176016e64\", element=\"2ab0a388-fc8f-4f8a-a997-1fb18d0a320a\")>,\n",
       " <selenium.webdriver.remote.webelement.WebElement (session=\"f153ac435a7fd17201cf35c176016e64\", element=\"dfac8350-7b56-4be6-ac12-d96240c38897\")>,\n",
       " <selenium.webdriver.remote.webelement.WebElement (session=\"f153ac435a7fd17201cf35c176016e64\", element=\"5fa548fe-6e63-4d45-b7ab-f6c81b7fbad0\")>,\n",
       " <selenium.webdriver.remote.webelement.WebElement (session=\"f153ac435a7fd17201cf35c176016e64\", element=\"0670486c-684c-44cb-8fa5-21ae392261a6\")>,\n",
       " <selenium.webdriver.remote.webelement.WebElement (session=\"f153ac435a7fd17201cf35c176016e64\", element=\"a466e33d-f777-4001-9b64-7b0bd910b00f\")>,\n",
       " <selenium.webdriver.remote.webelement.WebElement (session=\"f153ac435a7fd17201cf35c176016e64\", element=\"33b122fd-fbac-45e7-afdc-22e34e4664cb\")>,\n",
       " <selenium.webdriver.remote.webelement.WebElement (session=\"f153ac435a7fd17201cf35c176016e64\", element=\"9e8fa7dd-15e3-4ac2-a1c9-9dfc6d91f83a\")>,\n",
       " <selenium.webdriver.remote.webelement.WebElement (session=\"f153ac435a7fd17201cf35c176016e64\", element=\"7003cea8-3a0f-486f-bb2b-27f369d00627\")>,\n",
       " <selenium.webdriver.remote.webelement.WebElement (session=\"f153ac435a7fd17201cf35c176016e64\", element=\"614b5b8c-3043-47b5-92ec-16ddc175e64a\")>,\n",
       " <selenium.webdriver.remote.webelement.WebElement (session=\"f153ac435a7fd17201cf35c176016e64\", element=\"b2f93265-1784-4be1-bac6-e72a81d6e4df\")>,\n",
       " <selenium.webdriver.remote.webelement.WebElement (session=\"f153ac435a7fd17201cf35c176016e64\", element=\"d5c69ed2-04bf-4594-95ea-8f0fe1fb10db\")>,\n",
       " <selenium.webdriver.remote.webelement.WebElement (session=\"f153ac435a7fd17201cf35c176016e64\", element=\"e096f052-488f-4f52-a6dc-76682ff20dde\")>,\n",
       " <selenium.webdriver.remote.webelement.WebElement (session=\"f153ac435a7fd17201cf35c176016e64\", element=\"eb930437-65c7-47dd-9bae-f4cbe04860ae\")>,\n",
       " <selenium.webdriver.remote.webelement.WebElement (session=\"f153ac435a7fd17201cf35c176016e64\", element=\"397a029b-a3ac-452f-abc9-8a438e432c49\")>,\n",
       " <selenium.webdriver.remote.webelement.WebElement (session=\"f153ac435a7fd17201cf35c176016e64\", element=\"9bf1ad08-5aea-44db-bf11-b2536a512484\")>,\n",
       " <selenium.webdriver.remote.webelement.WebElement (session=\"f153ac435a7fd17201cf35c176016e64\", element=\"8e3c5a6d-31c0-402e-b44b-41ea195225c7\")>,\n",
       " <selenium.webdriver.remote.webelement.WebElement (session=\"f153ac435a7fd17201cf35c176016e64\", element=\"04bc4db4-7d23-443e-8c88-d3eb33b6a812\")>,\n",
       " <selenium.webdriver.remote.webelement.WebElement (session=\"f153ac435a7fd17201cf35c176016e64\", element=\"11a839d8-623a-40d0-8563-f21556c1044a\")>,\n",
       " <selenium.webdriver.remote.webelement.WebElement (session=\"f153ac435a7fd17201cf35c176016e64\", element=\"ac659fe8-8e9d-4ff4-b423-9014243665e1\")>,\n",
       " <selenium.webdriver.remote.webelement.WebElement (session=\"f153ac435a7fd17201cf35c176016e64\", element=\"895d275e-9b7e-40d8-a3de-0bf4e47d4ac6\")>,\n",
       " <selenium.webdriver.remote.webelement.WebElement (session=\"f153ac435a7fd17201cf35c176016e64\", element=\"9326dfaa-149b-41e4-9884-fa44c20db492\")>,\n",
       " <selenium.webdriver.remote.webelement.WebElement (session=\"f153ac435a7fd17201cf35c176016e64\", element=\"3338891c-6609-478c-afa9-0c4aacb7b956\")>,\n",
       " <selenium.webdriver.remote.webelement.WebElement (session=\"f153ac435a7fd17201cf35c176016e64\", element=\"1080f8cf-0081-488d-b1f5-2f01f94bcea1\")>,\n",
       " <selenium.webdriver.remote.webelement.WebElement (session=\"f153ac435a7fd17201cf35c176016e64\", element=\"d883b0b2-2e08-4e76-b012-fa6acdc77d49\")>,\n",
       " <selenium.webdriver.remote.webelement.WebElement (session=\"f153ac435a7fd17201cf35c176016e64\", element=\"0c9b956d-afd6-4011-b6d3-00172fbb61d8\")>,\n",
       " <selenium.webdriver.remote.webelement.WebElement (session=\"f153ac435a7fd17201cf35c176016e64\", element=\"1f9a4aa7-4958-40f9-a54e-6118f70c1c27\")>,\n",
       " <selenium.webdriver.remote.webelement.WebElement (session=\"f153ac435a7fd17201cf35c176016e64\", element=\"1ac94a38-cd26-42bc-8ffc-12a68249fea0\")>,\n",
       " <selenium.webdriver.remote.webelement.WebElement (session=\"f153ac435a7fd17201cf35c176016e64\", element=\"5ea63bbe-9cd0-437a-90ca-82c605b3188e\")>,\n",
       " <selenium.webdriver.remote.webelement.WebElement (session=\"f153ac435a7fd17201cf35c176016e64\", element=\"5f4bdb88-c33c-41c7-8271-d545c1dadb33\")>,\n",
       " <selenium.webdriver.remote.webelement.WebElement (session=\"f153ac435a7fd17201cf35c176016e64\", element=\"73e88d0c-1911-41ad-ada8-faee261877c3\")>,\n",
       " <selenium.webdriver.remote.webelement.WebElement (session=\"f153ac435a7fd17201cf35c176016e64\", element=\"33ba5ca2-0f3e-4cdf-9f70-4dfcf45f9f7f\")>,\n",
       " <selenium.webdriver.remote.webelement.WebElement (session=\"f153ac435a7fd17201cf35c176016e64\", element=\"a163dbee-4575-420d-94ea-19c3169ba414\")>,\n",
       " <selenium.webdriver.remote.webelement.WebElement (session=\"f153ac435a7fd17201cf35c176016e64\", element=\"a583b45c-f51b-4f97-a210-37152e46a0ec\")>,\n",
       " <selenium.webdriver.remote.webelement.WebElement (session=\"f153ac435a7fd17201cf35c176016e64\", element=\"010cb818-c618-47ab-a35c-0907670e7d2a\")>,\n",
       " <selenium.webdriver.remote.webelement.WebElement (session=\"f153ac435a7fd17201cf35c176016e64\", element=\"1ae2b651-9943-4a5a-8119-7bc55238d12d\")>,\n",
       " <selenium.webdriver.remote.webelement.WebElement (session=\"f153ac435a7fd17201cf35c176016e64\", element=\"5afc8631-71af-4fff-abab-b4fcbd0e3ba3\")>,\n",
       " <selenium.webdriver.remote.webelement.WebElement (session=\"f153ac435a7fd17201cf35c176016e64\", element=\"792171c2-7b08-449a-be31-b472e1ffb361\")>,\n",
       " <selenium.webdriver.remote.webelement.WebElement (session=\"f153ac435a7fd17201cf35c176016e64\", element=\"4a540407-62ed-445d-8ff0-38df49da216e\")>,\n",
       " <selenium.webdriver.remote.webelement.WebElement (session=\"f153ac435a7fd17201cf35c176016e64\", element=\"c55c0875-acf3-4cc5-8f63-71404b93d4d2\")>,\n",
       " <selenium.webdriver.remote.webelement.WebElement (session=\"f153ac435a7fd17201cf35c176016e64\", element=\"522a67f5-e313-4fc1-ab47-cdc6cac36000\")>,\n",
       " <selenium.webdriver.remote.webelement.WebElement (session=\"f153ac435a7fd17201cf35c176016e64\", element=\"b87648cd-8c45-4820-8ae2-46bd04d210a2\")>,\n",
       " <selenium.webdriver.remote.webelement.WebElement (session=\"f153ac435a7fd17201cf35c176016e64\", element=\"23cf5b8e-989c-4f32-b5f8-538b48358ce4\")>,\n",
       " <selenium.webdriver.remote.webelement.WebElement (session=\"f153ac435a7fd17201cf35c176016e64\", element=\"02f4ce8c-2fb5-4f24-a8f3-6c168a3184b1\")>,\n",
       " <selenium.webdriver.remote.webelement.WebElement (session=\"f153ac435a7fd17201cf35c176016e64\", element=\"514660de-fa2b-426c-a270-cbb1ab604f07\")>,\n",
       " <selenium.webdriver.remote.webelement.WebElement (session=\"f153ac435a7fd17201cf35c176016e64\", element=\"1668a24b-e91c-43f0-bd11-904715284c1c\")>,\n",
       " <selenium.webdriver.remote.webelement.WebElement (session=\"f153ac435a7fd17201cf35c176016e64\", element=\"28586cfb-328e-4e09-9b8a-743e2e979278\")>,\n",
       " <selenium.webdriver.remote.webelement.WebElement (session=\"f153ac435a7fd17201cf35c176016e64\", element=\"e2c7dad6-d348-45b7-84d9-33b49b27560d\")>,\n",
       " <selenium.webdriver.remote.webelement.WebElement (session=\"f153ac435a7fd17201cf35c176016e64\", element=\"d2fe1c64-23db-4f7c-9f3e-93f7d0f1518e\")>,\n",
       " <selenium.webdriver.remote.webelement.WebElement (session=\"f153ac435a7fd17201cf35c176016e64\", element=\"8fa5622d-fb32-4030-87b3-67a6e37f71ff\")>,\n",
       " <selenium.webdriver.remote.webelement.WebElement (session=\"f153ac435a7fd17201cf35c176016e64\", element=\"382d9f30-2705-4a33-b701-c28c42518717\")>,\n",
       " <selenium.webdriver.remote.webelement.WebElement (session=\"f153ac435a7fd17201cf35c176016e64\", element=\"d5e8b1ff-f95c-4a22-85eb-d6ecf3090694\")>,\n",
       " <selenium.webdriver.remote.webelement.WebElement (session=\"f153ac435a7fd17201cf35c176016e64\", element=\"9deb1a5f-edcb-4be4-a0f0-6836561b4823\")>,\n",
       " <selenium.webdriver.remote.webelement.WebElement (session=\"f153ac435a7fd17201cf35c176016e64\", element=\"08d0b45c-9ac6-46ff-9498-fd83eff226e1\")>,\n",
       " <selenium.webdriver.remote.webelement.WebElement (session=\"f153ac435a7fd17201cf35c176016e64\", element=\"5c50fe54-a4e5-4869-b73a-092659dc45ba\")>,\n",
       " <selenium.webdriver.remote.webelement.WebElement (session=\"f153ac435a7fd17201cf35c176016e64\", element=\"d66c5a30-6bc2-4520-bb95-6a22a2e477f7\")>,\n",
       " <selenium.webdriver.remote.webelement.WebElement (session=\"f153ac435a7fd17201cf35c176016e64\", element=\"6fc393c0-7300-45e6-8be8-85168adc7340\")>,\n",
       " <selenium.webdriver.remote.webelement.WebElement (session=\"f153ac435a7fd17201cf35c176016e64\", element=\"3b760309-cbcd-448a-b4f8-0e3c861cda37\")>,\n",
       " <selenium.webdriver.remote.webelement.WebElement (session=\"f153ac435a7fd17201cf35c176016e64\", element=\"7b86de30-49c7-4e33-a07e-dcd82650836b\")>,\n",
       " <selenium.webdriver.remote.webelement.WebElement (session=\"f153ac435a7fd17201cf35c176016e64\", element=\"de18b9e2-4c92-4afb-8d8d-cd6c7a6281b1\")>,\n",
       " <selenium.webdriver.remote.webelement.WebElement (session=\"f153ac435a7fd17201cf35c176016e64\", element=\"a0c9abcc-a13e-4daa-b285-48fe560b3f41\")>,\n",
       " <selenium.webdriver.remote.webelement.WebElement (session=\"f153ac435a7fd17201cf35c176016e64\", element=\"a1c514c3-3b21-4116-a764-a1faca6bbd02\")>,\n",
       " <selenium.webdriver.remote.webelement.WebElement (session=\"f153ac435a7fd17201cf35c176016e64\", element=\"d6d5d875-7a60-4781-aa87-a0e2f1ddd4ed\")>,\n",
       " <selenium.webdriver.remote.webelement.WebElement (session=\"f153ac435a7fd17201cf35c176016e64\", element=\"0ab2c2cd-b29b-42d1-94c9-99524e09d5b8\")>,\n",
       " <selenium.webdriver.remote.webelement.WebElement (session=\"f153ac435a7fd17201cf35c176016e64\", element=\"2be66218-52ab-4c64-a40d-f623abe8c8b8\")>,\n",
       " <selenium.webdriver.remote.webelement.WebElement (session=\"f153ac435a7fd17201cf35c176016e64\", element=\"e24de2b6-1b3f-472a-91b2-c3d1c25ed4be\")>,\n",
       " <selenium.webdriver.remote.webelement.WebElement (session=\"f153ac435a7fd17201cf35c176016e64\", element=\"3e34aca0-f57a-44b9-8723-817405b92dc7\")>,\n",
       " <selenium.webdriver.remote.webelement.WebElement (session=\"f153ac435a7fd17201cf35c176016e64\", element=\"612be090-e556-49e0-a187-dc83f0b7b721\")>,\n",
       " <selenium.webdriver.remote.webelement.WebElement (session=\"f153ac435a7fd17201cf35c176016e64\", element=\"3e9c6cc9-79fa-4965-ba5b-94a47e0658d3\")>,\n",
       " <selenium.webdriver.remote.webelement.WebElement (session=\"f153ac435a7fd17201cf35c176016e64\", element=\"6a610887-aca1-4bc6-baaf-2029688e950c\")>,\n",
       " <selenium.webdriver.remote.webelement.WebElement (session=\"f153ac435a7fd17201cf35c176016e64\", element=\"adc380c4-9ad1-4e73-8ec4-c7296aebe551\")>,\n",
       " <selenium.webdriver.remote.webelement.WebElement (session=\"f153ac435a7fd17201cf35c176016e64\", element=\"c781da28-8364-4085-be2c-31c7a3b1a58f\")>,\n",
       " <selenium.webdriver.remote.webelement.WebElement (session=\"f153ac435a7fd17201cf35c176016e64\", element=\"6be6863d-3e3a-474e-a4cd-9a9a2e0fc506\")>,\n",
       " <selenium.webdriver.remote.webelement.WebElement (session=\"f153ac435a7fd17201cf35c176016e64\", element=\"a36167a2-8650-4038-a21f-ebded771cd50\")>,\n",
       " <selenium.webdriver.remote.webelement.WebElement (session=\"f153ac435a7fd17201cf35c176016e64\", element=\"21d950dc-2578-4b54-824f-15d9bab3411a\")>,\n",
       " <selenium.webdriver.remote.webelement.WebElement (session=\"f153ac435a7fd17201cf35c176016e64\", element=\"78af2c80-8435-43ee-a19e-6ccb138120b9\")>,\n",
       " <selenium.webdriver.remote.webelement.WebElement (session=\"f153ac435a7fd17201cf35c176016e64\", element=\"ee21c9c9-42e2-442b-af75-cf6d14d11f33\")>,\n",
       " <selenium.webdriver.remote.webelement.WebElement (session=\"f153ac435a7fd17201cf35c176016e64\", element=\"931424ac-7a4d-437e-9e8c-1cc971dd56ee\")>,\n",
       " <selenium.webdriver.remote.webelement.WebElement (session=\"f153ac435a7fd17201cf35c176016e64\", element=\"67636c94-960f-4bdc-b1df-dbe87f1d10ff\")>,\n",
       " <selenium.webdriver.remote.webelement.WebElement (session=\"f153ac435a7fd17201cf35c176016e64\", element=\"4723fbd0-b143-4647-893e-bc569a699c87\")>,\n",
       " <selenium.webdriver.remote.webelement.WebElement (session=\"f153ac435a7fd17201cf35c176016e64\", element=\"d8b27ac1-1434-4bc3-8225-c2aad5b7cca5\")>,\n",
       " <selenium.webdriver.remote.webelement.WebElement (session=\"f153ac435a7fd17201cf35c176016e64\", element=\"9bb36069-ba29-4b28-a586-dcc83b2cfbb6\")>,\n",
       " <selenium.webdriver.remote.webelement.WebElement (session=\"f153ac435a7fd17201cf35c176016e64\", element=\"f8ba55ef-9f7c-41b1-b3b0-947ea82a360e\")>,\n",
       " <selenium.webdriver.remote.webelement.WebElement (session=\"f153ac435a7fd17201cf35c176016e64\", element=\"4ab20c06-8542-4582-9600-15632a5f51e0\")>,\n",
       " <selenium.webdriver.remote.webelement.WebElement (session=\"f153ac435a7fd17201cf35c176016e64\", element=\"0037bfca-7789-4578-82b6-632bc97ad4d6\")>,\n",
       " <selenium.webdriver.remote.webelement.WebElement (session=\"f153ac435a7fd17201cf35c176016e64\", element=\"4a6c1114-6eac-4bd4-9973-6ced011d5d50\")>,\n",
       " <selenium.webdriver.remote.webelement.WebElement (session=\"f153ac435a7fd17201cf35c176016e64\", element=\"c3efcb4a-849c-4a51-8a75-e245fd95c86b\")>,\n",
       " <selenium.webdriver.remote.webelement.WebElement (session=\"f153ac435a7fd17201cf35c176016e64\", element=\"ce558c36-c2d5-487d-be68-5fbef1f9d062\")>,\n",
       " <selenium.webdriver.remote.webelement.WebElement (session=\"f153ac435a7fd17201cf35c176016e64\", element=\"f33b2d31-a3a8-4b5a-85ba-8b23b1315c33\")>,\n",
       " <selenium.webdriver.remote.webelement.WebElement (session=\"f153ac435a7fd17201cf35c176016e64\", element=\"406dbe5c-002b-47ee-8451-9cc668fd0d36\")>,\n",
       " <selenium.webdriver.remote.webelement.WebElement (session=\"f153ac435a7fd17201cf35c176016e64\", element=\"c2305666-1109-44cf-b48b-98fb23027c9a\")>]"
      ]
     },
     "execution_count": 26,
     "metadata": {},
     "output_type": "execute_result"
    }
   ],
   "source": [
    "genre = driver.find_elements_by_xpath('//td[@class=\"last left\"]')\n",
    "len(genre)\n",
    "genre[0:100]"
   ]
  },
  {
   "cell_type": "code",
   "execution_count": 27,
   "id": "10e1c6c7",
   "metadata": {},
   "outputs": [
    {
     "data": {
      "text/plain": [
       "['Crime, Thriller & Adventure',\n",
       " \"Children's Fiction\",\n",
       " \"Children's Fiction\",\n",
       " \"Children's Fiction\",\n",
       " 'Romance & Sagas',\n",
       " \"Children's Fiction\",\n",
       " \"Children's Fiction\",\n",
       " \"Children's Fiction\",\n",
       " 'Crime, Thriller & Adventure',\n",
       " \"Children's Fiction\",\n",
       " 'Romance & Sagas',\n",
       " 'Young Adult Fiction',\n",
       " 'Crime, Thriller & Adventure',\n",
       " 'Romance & Sagas',\n",
       " 'Crime, Thriller & Adventure',\n",
       " 'Young Adult Fiction',\n",
       " 'Crime, Thriller & Adventure',\n",
       " 'Young Adult Fiction',\n",
       " 'General & Literary Fiction',\n",
       " 'General & Literary Fiction',\n",
       " 'Crime, Thriller & Adventure',\n",
       " 'Popular Science',\n",
       " 'Crime, Thriller & Adventure',\n",
       " 'Young Adult Fiction',\n",
       " 'Picture Books',\n",
       " 'Picture Books',\n",
       " 'Food & Drink: General',\n",
       " 'General & Literary Fiction',\n",
       " 'General & Literary Fiction',\n",
       " 'General & Literary Fiction',\n",
       " 'Crime, Thriller & Adventure',\n",
       " 'General & Literary Fiction',\n",
       " 'General & Literary Fiction',\n",
       " 'General & Literary Fiction',\n",
       " 'Humour: Collections & General',\n",
       " 'General & Literary Fiction',\n",
       " 'Autobiography: General',\n",
       " 'General & Literary Fiction',\n",
       " 'Biography: The Arts',\n",
       " 'Autobiography: General',\n",
       " 'Picture Books',\n",
       " 'Autobiography: General',\n",
       " 'General & Literary Fiction',\n",
       " 'Young Adult Fiction',\n",
       " 'General & Literary Fiction',\n",
       " 'Science Fiction & Fantasy',\n",
       " 'General & Literary Fiction',\n",
       " 'General & Literary Fiction',\n",
       " 'General & Literary Fiction',\n",
       " 'Crime, Thriller & Adventure',\n",
       " 'General & Literary Fiction',\n",
       " 'General & Literary Fiction',\n",
       " 'Fitness & Diet',\n",
       " 'General & Literary Fiction',\n",
       " \"Children's Fiction\",\n",
       " 'Crime, Thriller & Adventure',\n",
       " 'Fitness & Diet',\n",
       " 'Young Adult Fiction',\n",
       " 'Usage & Writing Guides',\n",
       " 'Food & Drink: General',\n",
       " 'General & Literary Fiction',\n",
       " 'Young Adult Fiction',\n",
       " 'General & Literary Fiction',\n",
       " 'Young Adult Fiction',\n",
       " 'General & Literary Fiction',\n",
       " 'Popular Culture & Media: General Interest',\n",
       " 'Autobiography: The Arts',\n",
       " 'General & Literary Fiction',\n",
       " 'Crime, Thriller & Adventure',\n",
       " 'Science Fiction & Fantasy',\n",
       " 'Current Affairs & Issues',\n",
       " 'Crime, Thriller & Adventure',\n",
       " 'Autobiography: The Arts',\n",
       " 'General & Literary Fiction',\n",
       " 'Autobiography: The Arts',\n",
       " 'Travel Writing',\n",
       " 'Food & Drink: General',\n",
       " 'General & Literary Fiction',\n",
       " 'National & Regional Cuisine',\n",
       " 'Fitness & Diet',\n",
       " 'Travel Writing',\n",
       " 'Crime, Thriller & Adventure',\n",
       " 'General & Literary Fiction',\n",
       " 'Food & Drink: General',\n",
       " 'General & Literary Fiction',\n",
       " 'General & Literary Fiction',\n",
       " 'Picture Books',\n",
       " 'General & Literary Fiction',\n",
       " 'Autobiography: The Arts',\n",
       " 'Popular Science',\n",
       " \"Children's Annuals\",\n",
       " 'General & Literary Fiction',\n",
       " 'General & Literary Fiction',\n",
       " 'General & Literary Fiction',\n",
       " 'General & Literary Fiction',\n",
       " 'General & Literary Fiction',\n",
       " 'Food & Drink: General',\n",
       " 'Young Adult Fiction',\n",
       " 'Biography: General',\n",
       " 'Food & Drink: General']"
      ]
     },
     "execution_count": 27,
     "metadata": {},
     "output_type": "execute_result"
    }
   ],
   "source": [
    "genres = []\n",
    "\n",
    "for i in genre:\n",
    "    genres.append(i.text)\n",
    "genres[0:100]"
   ]
  },
  {
   "cell_type": "code",
   "execution_count": null,
   "id": "cc5a9cfb",
   "metadata": {},
   "outputs": [],
   "source": []
  }
 ],
 "metadata": {
  "kernelspec": {
   "display_name": "Python 3",
   "language": "python",
   "name": "python3"
  },
  "language_info": {
   "codemirror_mode": {
    "name": "ipython",
    "version": 3
   },
   "file_extension": ".py",
   "mimetype": "text/x-python",
   "name": "python",
   "nbconvert_exporter": "python",
   "pygments_lexer": "ipython3",
   "version": "3.8.8"
  }
 },
 "nbformat": 4,
 "nbformat_minor": 5
}
