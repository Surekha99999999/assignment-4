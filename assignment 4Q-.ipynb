{
 "cells": [
  {
   "cell_type": "code",
   "execution_count": 1,
   "id": "491544f7",
   "metadata": {},
   "outputs": [],
   "source": [
    "import pandas as pd\n",
    "import numpy as np\n",
    "import selenium\n",
    "from selenium import webdriver\n",
    "from selenium.common.exceptions import NoSuchElementException\n",
    "import warnings\n",
    "warnings.filterwarnings('ignore')"
   ]
  },
  {
   "cell_type": "code",
   "execution_count": 3,
   "id": "45111d60",
   "metadata": {},
   "outputs": [],
   "source": [
    "driver = webdriver.Chrome(r'C:\\Users\\PC\\Downloads\\chromedriver_win32 (1)\\chromedriver.exe')"
   ]
  },
  {
   "cell_type": "code",
   "execution_count": 4,
   "id": "928c8eac",
   "metadata": {},
   "outputs": [],
   "source": [
    "driver.get(\"https:/www.billboard.com/\")"
   ]
  },
  {
   "cell_type": "code",
   "execution_count": 5,
   "id": "fa49ba3b",
   "metadata": {},
   "outputs": [
    {
     "data": {
      "text/plain": [
       "<selenium.webdriver.remote.webelement.WebElement (session=\"b2b325b151d64fb8d5976f46497a5c40\", element=\"a020c02b-282d-44c8-a2e6-dc7f6e2f94e5\")>"
      ]
     },
     "execution_count": 5,
     "metadata": {},
     "output_type": "execute_result"
    }
   ],
   "source": [
    "search = driver.find_element_by_id(\"small_search_form\")\n",
    "search"
   ]
  },
  {
   "cell_type": "code",
   "execution_count": 7,
   "id": "8004c05f",
   "metadata": {},
   "outputs": [],
   "source": [
    "search.send_keys(\"hot 100\")"
   ]
  },
  {
   "cell_type": "code",
   "execution_count": 11,
   "id": "6755f8e1",
   "metadata": {},
   "outputs": [
    {
     "data": {
      "text/plain": [
       "[<selenium.webdriver.remote.webelement.WebElement (session=\"b2b325b151d64fb8d5976f46497a5c40\", element=\"fee8d7ec-eac1-4632-a358-42fd6c9bc9f8\")>]"
      ]
     },
     "execution_count": 11,
     "metadata": {},
     "output_type": "execute_result"
    }
   ],
   "source": [
    "song_name = driver.find_elements_by_xpath('//h3[@class=\"c-title  a-no-trucate a-font-primary-bold-s u-letter-spacing-0021 u-font-size-23@tablet lrv-u-font-size-16 u-line-height-125 u-line-height-normal@mobile-max a-truncate-ellipsis u-max-width-245 u-max-width-230@tablet-only u-letter-spacing-0028@tablet\"]')\n",
    "len(song_name)\n",
    "song_name[0:100]"
   ]
  },
  {
   "cell_type": "code",
   "execution_count": 14,
   "id": "46ad66a4",
   "metadata": {},
   "outputs": [
    {
     "data": {
      "text/plain": [
       "[\"We Don't Talk About Bruno\"]"
      ]
     },
     "execution_count": 14,
     "metadata": {},
     "output_type": "execute_result"
    }
   ],
   "source": [
    "song_names = []\n",
    "\n",
    "for i in song_name:\n",
    "    song_names.append(i.text)\n",
    "song_names[0:100]"
   ]
  },
  {
   "cell_type": "code",
   "execution_count": 15,
   "id": "a18f1b4c",
   "metadata": {},
   "outputs": [
    {
     "data": {
      "text/plain": [
       "[<selenium.webdriver.remote.webelement.WebElement (session=\"b2b325b151d64fb8d5976f46497a5c40\", element=\"49376c7a-981b-4ac2-9729-dfcfe8eca91d\")>]"
      ]
     },
     "execution_count": 15,
     "metadata": {},
     "output_type": "execute_result"
    }
   ],
   "source": [
    "artist_name = driver.find_elements_by_xpath('//span[@class=\"c-label  a-no-trucate a-font-primary-s lrv-u-font-size-14@mobile-max u-line-height-normal@mobile-max u-letter-spacing-0021 lrv-u-display-block a-truncate-ellipsis-2line u-max-width-330 u-max-width-230@tablet-only u-font-size-20@tablet\"]')\n",
    "len(artist_name)\n",
    "artist_name[0:100]"
   ]
  },
  {
   "cell_type": "code",
   "execution_count": null,
   "id": "2eafb979",
   "metadata": {},
   "outputs": [],
   "source": [
    "_names = []\n",
    "\n",
    "for i in song_name:\n",
    "    song_names.append(i.text)\n",
    "song_names[0:100]"
   ]
  },
  {
   "cell_type": "code",
   "execution_count": null,
   "id": "bb9ace34",
   "metadata": {},
   "outputs": [],
   "source": []
  }
 ],
 "metadata": {
  "kernelspec": {
   "display_name": "Python 3",
   "language": "python",
   "name": "python3"
  },
  "language_info": {
   "codemirror_mode": {
    "name": "ipython",
    "version": 3
   },
   "file_extension": ".py",
   "mimetype": "text/x-python",
   "name": "python",
   "nbconvert_exporter": "python",
   "pygments_lexer": "ipython3",
   "version": "3.8.8"
  }
 },
 "nbformat": 4,
 "nbformat_minor": 5
}
